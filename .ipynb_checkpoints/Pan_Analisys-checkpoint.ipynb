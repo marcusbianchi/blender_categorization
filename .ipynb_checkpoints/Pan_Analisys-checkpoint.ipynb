{
 "cells": [
  {
   "cell_type": "markdown",
   "metadata": {},
   "source": [
    "# Data Visualization and Cleaning\n",
    "1 -  First step is to import the data using pandas and visualize it's contentes\n",
    "\n",
    "2 - After that we need to solved what to do with the NaNs for each column"
   ]
  },
  {
   "cell_type": "code",
   "execution_count": 1,
   "metadata": {},
   "outputs": [],
   "source": [
    "import pandas as pd\n",
    "import numpy as np"
   ]
  },
  {
   "cell_type": "code",
   "execution_count": 2,
   "metadata": {},
   "outputs": [],
   "source": [
    "df = pd.read_csv('problem1_dataset.csv')"
   ]
  },
  {
   "cell_type": "code",
   "execution_count": 3,
   "metadata": {},
   "outputs": [
    {
     "data": {
      "text/html": [
       "<div>\n",
       "<style scoped>\n",
       "    .dataframe tbody tr th:only-of-type {\n",
       "        vertical-align: middle;\n",
       "    }\n",
       "\n",
       "    .dataframe tbody tr th {\n",
       "        vertical-align: top;\n",
       "    }\n",
       "\n",
       "    .dataframe thead th {\n",
       "        text-align: right;\n",
       "    }\n",
       "</style>\n",
       "<table border=\"1\" class=\"dataframe\">\n",
       "  <thead>\n",
       "    <tr style=\"text-align: right;\">\n",
       "      <th></th>\n",
       "      <th>ITEM_ID</th>\n",
       "      <th>ALTURA</th>\n",
       "      <th>CAPACIDADE_(L)</th>\n",
       "      <th>COMPOSICAO</th>\n",
       "      <th>COR</th>\n",
       "      <th>FORMATO</th>\n",
       "      <th>LARGURA</th>\n",
       "      <th>MARCA</th>\n",
       "      <th>PARA_LAVA_LOUCAS</th>\n",
       "      <th>PARA_MICRO_ONDAS</th>\n",
       "      <th>PESO</th>\n",
       "      <th>PROFUNDIDADE</th>\n",
       "      <th>TEMPO_GARANTIA</th>\n",
       "      <th>TEM_FERRO_FUNDIDO</th>\n",
       "      <th>TEM_GRELHA</th>\n",
       "      <th>TEM_TAMPA</th>\n",
       "      <th>TIPO_PRODUTO</th>\n",
       "      <th>TIPO_WOK</th>\n",
       "      <th>ITEM_PRICE</th>\n",
       "      <th>INTERESTED</th>\n",
       "    </tr>\n",
       "    <tr>\n",
       "      <th>SESSION_ID</th>\n",
       "      <th></th>\n",
       "      <th></th>\n",
       "      <th></th>\n",
       "      <th></th>\n",
       "      <th></th>\n",
       "      <th></th>\n",
       "      <th></th>\n",
       "      <th></th>\n",
       "      <th></th>\n",
       "      <th></th>\n",
       "      <th></th>\n",
       "      <th></th>\n",
       "      <th></th>\n",
       "      <th></th>\n",
       "      <th></th>\n",
       "      <th></th>\n",
       "      <th></th>\n",
       "      <th></th>\n",
       "      <th></th>\n",
       "      <th></th>\n",
       "    </tr>\n",
       "  </thead>\n",
       "  <tbody>\n",
       "    <tr>\n",
       "      <th>86.709770</th>\n",
       "      <td>264220456</td>\n",
       "      <td>30.5</td>\n",
       "      <td>NaN</td>\n",
       "      <td>ALUMINIO</td>\n",
       "      <td>VINHO</td>\n",
       "      <td>NaN</td>\n",
       "      <td>14.0</td>\n",
       "      <td>LA CUISINE</td>\n",
       "      <td>NaN</td>\n",
       "      <td>NaN</td>\n",
       "      <td>NaN</td>\n",
       "      <td>50.0</td>\n",
       "      <td>3.0</td>\n",
       "      <td>NAO</td>\n",
       "      <td>SIM</td>\n",
       "      <td>1.0</td>\n",
       "      <td>PANELA</td>\n",
       "      <td>NAO</td>\n",
       "      <td>199.990000</td>\n",
       "      <td>0.0</td>\n",
       "    </tr>\n",
       "    <tr>\n",
       "      <th>73.156401</th>\n",
       "      <td>238630912</td>\n",
       "      <td>22.0</td>\n",
       "      <td>NaN</td>\n",
       "      <td>ALUMINIO</td>\n",
       "      <td>COLORIDO</td>\n",
       "      <td>NaN</td>\n",
       "      <td>24.0</td>\n",
       "      <td>TRAMONTINA</td>\n",
       "      <td>No</td>\n",
       "      <td>no</td>\n",
       "      <td>150.0</td>\n",
       "      <td>40.0</td>\n",
       "      <td>12.0</td>\n",
       "      <td>NAO</td>\n",
       "      <td>NAO</td>\n",
       "      <td>1.0</td>\n",
       "      <td>PIPOQUEIRA</td>\n",
       "      <td>NAO</td>\n",
       "      <td>105.112581</td>\n",
       "      <td>0.0</td>\n",
       "    </tr>\n",
       "    <tr>\n",
       "      <th>952.331024</th>\n",
       "      <td>218228122</td>\n",
       "      <td>24.0</td>\n",
       "      <td>NaN</td>\n",
       "      <td>INOX</td>\n",
       "      <td>INOX</td>\n",
       "      <td>NaN</td>\n",
       "      <td>20.0</td>\n",
       "      <td>LA CUISINE</td>\n",
       "      <td>Yes</td>\n",
       "      <td>no</td>\n",
       "      <td>190.0</td>\n",
       "      <td>20.0</td>\n",
       "      <td>3.0</td>\n",
       "      <td>NAO</td>\n",
       "      <td>NAO</td>\n",
       "      <td>1.0</td>\n",
       "      <td>ESPAGUETEIRA</td>\n",
       "      <td>NAO</td>\n",
       "      <td>139.990000</td>\n",
       "      <td>0.0</td>\n",
       "    </tr>\n",
       "    <tr>\n",
       "      <th>637.759106</th>\n",
       "      <td>253661510</td>\n",
       "      <td>49.5</td>\n",
       "      <td>6.0</td>\n",
       "      <td>ALUMINIO</td>\n",
       "      <td>VERMELHO</td>\n",
       "      <td>REDONDO</td>\n",
       "      <td>41.5</td>\n",
       "      <td>TRAMONTINA</td>\n",
       "      <td>Yes</td>\n",
       "      <td>NaN</td>\n",
       "      <td>120.0</td>\n",
       "      <td>47.0</td>\n",
       "      <td>NaN</td>\n",
       "      <td>NAO</td>\n",
       "      <td>NAO</td>\n",
       "      <td>1.0</td>\n",
       "      <td>PIPOQUEIRA</td>\n",
       "      <td>NAO</td>\n",
       "      <td>103.293333</td>\n",
       "      <td>1.0</td>\n",
       "    </tr>\n",
       "    <tr>\n",
       "      <th>478.531428</th>\n",
       "      <td>253661510</td>\n",
       "      <td>49.5</td>\n",
       "      <td>6.0</td>\n",
       "      <td>ALUMINIO</td>\n",
       "      <td>VERMELHO</td>\n",
       "      <td>REDONDO</td>\n",
       "      <td>41.5</td>\n",
       "      <td>TRAMONTINA</td>\n",
       "      <td>Yes</td>\n",
       "      <td>NaN</td>\n",
       "      <td>120.0</td>\n",
       "      <td>47.0</td>\n",
       "      <td>NaN</td>\n",
       "      <td>NAO</td>\n",
       "      <td>NAO</td>\n",
       "      <td>1.0</td>\n",
       "      <td>PIPOQUEIRA</td>\n",
       "      <td>NAO</td>\n",
       "      <td>103.330242</td>\n",
       "      <td>0.0</td>\n",
       "    </tr>\n",
       "  </tbody>\n",
       "</table>\n",
       "</div>"
      ],
      "text/plain": [
       "              ITEM_ID  ALTURA  CAPACIDADE_(L) COMPOSICAO       COR  FORMATO  \\\n",
       "SESSION_ID                                                                    \n",
       "86.709770   264220456    30.5             NaN   ALUMINIO     VINHO      NaN   \n",
       "73.156401   238630912    22.0             NaN   ALUMINIO  COLORIDO      NaN   \n",
       "952.331024  218228122    24.0             NaN       INOX      INOX      NaN   \n",
       "637.759106  253661510    49.5             6.0   ALUMINIO  VERMELHO  REDONDO   \n",
       "478.531428  253661510    49.5             6.0   ALUMINIO  VERMELHO  REDONDO   \n",
       "\n",
       "            LARGURA       MARCA PARA_LAVA_LOUCAS PARA_MICRO_ONDAS   PESO  \\\n",
       "SESSION_ID                                                                 \n",
       "86.709770      14.0  LA CUISINE              NaN              NaN    NaN   \n",
       "73.156401      24.0  TRAMONTINA               No               no  150.0   \n",
       "952.331024     20.0  LA CUISINE              Yes               no  190.0   \n",
       "637.759106     41.5  TRAMONTINA              Yes              NaN  120.0   \n",
       "478.531428     41.5  TRAMONTINA              Yes              NaN  120.0   \n",
       "\n",
       "            PROFUNDIDADE  TEMPO_GARANTIA TEM_FERRO_FUNDIDO TEM_GRELHA  \\\n",
       "SESSION_ID                                                              \n",
       "86.709770           50.0             3.0               NAO        SIM   \n",
       "73.156401           40.0            12.0               NAO        NAO   \n",
       "952.331024          20.0             3.0               NAO        NAO   \n",
       "637.759106          47.0             NaN               NAO        NAO   \n",
       "478.531428          47.0             NaN               NAO        NAO   \n",
       "\n",
       "            TEM_TAMPA  TIPO_PRODUTO TIPO_WOK  ITEM_PRICE  INTERESTED  \n",
       "SESSION_ID                                                            \n",
       "86.709770         1.0        PANELA      NAO  199.990000         0.0  \n",
       "73.156401         1.0    PIPOQUEIRA      NAO  105.112581         0.0  \n",
       "952.331024        1.0  ESPAGUETEIRA      NAO  139.990000         0.0  \n",
       "637.759106        1.0    PIPOQUEIRA      NAO  103.293333         1.0  \n",
       "478.531428        1.0    PIPOQUEIRA      NAO  103.330242         0.0  "
      ]
     },
     "execution_count": 3,
     "metadata": {},
     "output_type": "execute_result"
    }
   ],
   "source": [
    "df.set_index('SESSION_ID',inplace=True)\n",
    "df.head()"
   ]
  },
  {
   "cell_type": "code",
   "execution_count": 4,
   "metadata": {},
   "outputs": [
    {
     "name": "stdout",
     "output_type": "stream",
     "text": [
      "<class 'pandas.core.frame.DataFrame'>\n",
      "Float64Index: 180275 entries, 86.7097703783 to 222.930790647\n",
      "Data columns (total 20 columns):\n",
      "ITEM_ID              180275 non-null int64\n",
      "ALTURA               171007 non-null float64\n",
      "CAPACIDADE_(L)       76671 non-null float64\n",
      "COMPOSICAO           156978 non-null object\n",
      "COR                  170251 non-null object\n",
      "FORMATO              90011 non-null object\n",
      "LARGURA              171007 non-null float64\n",
      "MARCA                180001 non-null object\n",
      "PARA_LAVA_LOUCAS     104086 non-null object\n",
      "PARA_MICRO_ONDAS     86402 non-null object\n",
      "PESO                 98524 non-null float64\n",
      "PROFUNDIDADE         171007 non-null float64\n",
      "TEMPO_GARANTIA       122770 non-null float64\n",
      "TEM_FERRO_FUNDIDO    180275 non-null object\n",
      "TEM_GRELHA           180275 non-null object\n",
      "TEM_TAMPA            180275 non-null float64\n",
      "TIPO_PRODUTO         180275 non-null object\n",
      "TIPO_WOK             180275 non-null object\n",
      "ITEM_PRICE           167178 non-null float64\n",
      "INTERESTED           180275 non-null float64\n",
      "dtypes: float64(9), int64(1), object(10)\n",
      "memory usage: 28.9+ MB\n"
     ]
    }
   ],
   "source": [
    "df.info(verbose=True)"
   ]
  },
  {
   "cell_type": "code",
   "execution_count": 5,
   "metadata": {},
   "outputs": [
    {
     "name": "stdout",
     "output_type": "stream",
     "text": [
      "<class 'pandas.core.frame.DataFrame'>\n",
      "Float64Index: 27564 entries, 14.583125013599998 to 346.530445031\n",
      "Data columns (total 20 columns):\n",
      "ITEM_ID              27564 non-null int64\n",
      "ALTURA               27564 non-null float64\n",
      "CAPACIDADE_(L)       27564 non-null float64\n",
      "COMPOSICAO           27564 non-null object\n",
      "COR                  27564 non-null object\n",
      "FORMATO              27564 non-null object\n",
      "LARGURA              27564 non-null float64\n",
      "MARCA                27564 non-null object\n",
      "PARA_LAVA_LOUCAS     27564 non-null object\n",
      "PARA_MICRO_ONDAS     27564 non-null object\n",
      "PESO                 27564 non-null float64\n",
      "PROFUNDIDADE         27564 non-null float64\n",
      "TEMPO_GARANTIA       27564 non-null float64\n",
      "TEM_FERRO_FUNDIDO    27564 non-null object\n",
      "TEM_GRELHA           27564 non-null object\n",
      "TEM_TAMPA            27564 non-null float64\n",
      "TIPO_PRODUTO         27564 non-null object\n",
      "TIPO_WOK             27564 non-null object\n",
      "ITEM_PRICE           27564 non-null float64\n",
      "INTERESTED           27564 non-null float64\n",
      "dtypes: float64(9), int64(1), object(10)\n",
      "memory usage: 4.4+ MB\n"
     ]
    }
   ],
   "source": [
    "cleared_df = df.dropna()\n",
    "cleared_df.info(verbose=True)"
   ]
  },
  {
   "cell_type": "code",
   "execution_count": 6,
   "metadata": {},
   "outputs": [
    {
     "name": "stdout",
     "output_type": "stream",
     "text": [
      "27564\n"
     ]
    }
   ],
   "source": [
    "cleared_df.shape[0]/df.shape[0]*100\n",
    "print(cleared_df.shape[0])"
   ]
  },
  {
   "cell_type": "markdown",
   "metadata": {},
   "source": [
    "## Filling the NANs\n",
    "If we simply cleared all the NaN we would lose 85% of the information so we need to see how to solve the NAN issue for each column. The information we have is the ITEM_ID, we will try to get the information for each type of item and fill it in the missing value. I'm assuming that the ITEM_ID is the product type so for the same product type the characteristics would be the same. This logic would not be used for price because this can change over time"
   ]
  },
  {
   "cell_type": "code",
   "execution_count": 7,
   "metadata": {
    "scrolled": false
   },
   "outputs": [
    {
     "name": "stdout",
     "output_type": "stream",
     "text": [
      "787\n",
      "31\n"
     ]
    }
   ],
   "source": [
    "item_IDS =  df.ITEM_ID.unique()\n",
    "print(len(item_IDS))\n",
    "total_updated = 0\n",
    "for id in item_IDS:\n",
    "    filtered = df.loc[df['ITEM_ID'] == id].head().dropna()\n",
    "    if(filtered.size!=0):\n",
    "       total_updated +=1\n",
    "    \n",
    "    \n",
    "print(total_updated)"
   ]
  },
  {
   "cell_type": "markdown",
   "metadata": {},
   "source": [
    "Observing the Data above we can see that only 31 products have all the information so we need to find another strategy to fill in the NaN. Also we can see if we would drop the NAN rows we would have information only about 31 products\n",
    "\n",
    "The First step will be for each column that has a NaN value we will create another categoric column, that will indicate for us if the product has or not the information related with the column. This will help the algoritm to understand if the information is relevant on the classification. After that the NAN will be replaced by zeros. "
   ]
  },
  {
   "cell_type": "code",
   "execution_count": 8,
   "metadata": {},
   "outputs": [
    {
     "name": "stdout",
     "output_type": "stream",
     "text": [
      "['ALTURA', 'CAPACIDADE_(L)', 'COMPOSICAO', 'COR', 'FORMATO', 'LARGURA', 'MARCA', 'PARA_LAVA_LOUCAS', 'PARA_MICRO_ONDAS', 'PESO', 'PROFUNDIDADE', 'TEMPO_GARANTIA', 'ITEM_PRICE']\n",
      "['ITEM_ID', 'TEM_FERRO_FUNDIDO', 'TEM_GRELHA', 'TEM_TAMPA', 'TIPO_PRODUTO', 'TIPO_WOK', 'INTERESTED']\n"
     ]
    }
   ],
   "source": [
    "columns_with_missing_info = []\n",
    "columns_with_all_info = []\n",
    "for column in df.columns:\n",
    "    if(df[column].isna().sum()>0):\n",
    "        columns_with_missing_info.append(column)\n",
    "        new_column = column+\"_CONTAINS_INFO\"\n",
    "        df[new_column] = df[column].isna()\n",
    "    else:\n",
    "        if (column.find(\"_CONTAINS_INFO\")==-1):\n",
    "            columns_with_all_info.append(column)\n",
    "\n",
    "print(columns_with_missing_info)\n",
    "print(columns_with_all_info)"
   ]
  },
  {
   "cell_type": "markdown",
   "metadata": {},
   "source": [
    "We have 6 numerical features missing information \n",
    "- ALTURA, CAPACIDADE_(L),LARGURA,PESO,PROFUNDIDADE,TEMPO_GARANTIA,ITEM_PRICE\n",
    "\n",
    "We have 5 categorical features missing information \n",
    "- COMPOSICAO, COR, FORMATO, MARCA, PARA_LAVA_LOUCAS, PARA_MICRO_ONDAS\n",
    "\n",
    "We are ignoring SESSION_ID for now because that information will be used later. For the missing information on the numerical columns we will use a LINEAR REGRESSION to infer de value for NAN. So in the following steps we will create the linear regression for each missing of those. The same process will be used on he Categorical Data. However to use the build in interpolation feature we have to put all the lines containing all the information at the begining."
   ]
  },
  {
   "cell_type": "code",
   "execution_count": 9,
   "metadata": {},
   "outputs": [],
   "source": [
    "categorical_cols= ['COMPOSICAO','COR','FORMATO','MARCA','PARA_LAVA_LOUCAS','PARA_MICRO_ONDAS','TEM_FERRO_FUNDIDO','TEM_GRELHA','TEM_TAMPA','TIPO_PRODUTO','TIPO_WOK']\n",
    "for col in categorical_cols: \n",
    "    df.sort_values(by=col,axis=0,ascending=False,inplace=True)\n",
    "    df[col] = df[col].astype('category')\n",
    "    df[col]= (df[col].cat.codes.replace(-1, np.nan).interpolate().astype(int).astype('category').cat.rename_categories(df[col].cat.categories))"
   ]
  },
  {
   "cell_type": "code",
   "execution_count": 10,
   "metadata": {},
   "outputs": [],
   "source": [
    "numerical_cols = ['ALTURA', 'CAPACIDADE_(L)','LARGURA','PESO','PROFUNDIDADE','TEMPO_GARANTIA','ITEM_PRICE']\n",
    "for col in numerical_cols: \n",
    "    df.sort_values(by=col,axis=0,ascending=False,inplace=True)\n",
    "    df[col]= df[col].interpolate()\n"
   ]
  },
  {
   "cell_type": "markdown",
   "metadata": {},
   "source": [
    "# Modeling the System\n",
    "Now that we have the dataset clean and without NaN we can start to try to use ML algorithms to predict the data. First we need to encode the categorical columns using one_hot encoding to avoid missing interpretation of the data based on the int values "
   ]
  },
  {
   "cell_type": "code",
   "execution_count": 11,
   "metadata": {},
   "outputs": [],
   "source": [
    "df_for_reg = pd.get_dummies(df, columns=categorical_cols).copy(deep=True)\n",
    "df_for_reg = df_for_reg.drop(columns=['ITEM_ID'])\n",
    "df_for_reg = df_for_reg.apply(pd.to_numeric, errors='ignore')"
   ]
  },
  {
   "cell_type": "code",
   "execution_count": 12,
   "metadata": {},
   "outputs": [],
   "source": [
    "from sklearn.linear_model import LinearRegression\n",
    "from sklearn.model_selection import train_test_split  \n",
    "from sklearn.neural_network import MLPClassifier\n",
    "from sklearn.model_selection import train_test_split  \n",
    "regressors = {}"
   ]
  },
  {
   "cell_type": "markdown",
   "metadata": {},
   "source": [
    "Now we can use the data set in a simple MultiLayerPerceptron to see the acuracy without any fine tunning."
   ]
  },
  {
   "cell_type": "code",
   "execution_count": 13,
   "metadata": {},
   "outputs": [
    {
     "name": "stdout",
     "output_type": "stream",
     "text": [
      "Iteration 1, loss = 0.35048718\n",
      "Iteration 2, loss = 0.32308092\n",
      "Iteration 3, loss = 0.34470836\n",
      "Iteration 4, loss = 0.33191449\n",
      "Iteration 5, loss = 0.33015378\n",
      "Training loss did not improve more than tol=0.000100 for two consecutive epochs. Stopping.\n",
      "INTERESTED Accuracy: 0.9135325833721627\n"
     ]
    }
   ],
   "source": [
    "\n",
    "df_for_reg.sort_index()\n",
    "\n",
    "classifier = MLPClassifier(verbose=True)  \n",
    "y = df_for_reg['INTERESTED'].values\n",
    "x = df_for_reg.loc[:, df_for_reg.columns != 'INTERESTED'].values\n",
    "X_train, X_test, y_train, y_test = train_test_split(x, y)  \n",
    "classifier.fit(X_train, y_train)  \n",
    "result =classifier.score(X_test,y_test)\n",
    "print(column+\" Accuracy: \" + str(result))"
   ]
  },
  {
   "cell_type": "markdown",
   "metadata": {},
   "source": [
    "Without any fine tunning we have a accuracy of 91%. Let See the Parameters of the current MLP to see how it's set."
   ]
  },
  {
   "cell_type": "code",
   "execution_count": 14,
   "metadata": {},
   "outputs": [
    {
     "data": {
      "text/plain": [
       "MLPClassifier(activation='relu', alpha=0.0001, batch_size='auto', beta_1=0.9,\n",
       "       beta_2=0.999, early_stopping=False, epsilon=1e-08,\n",
       "       hidden_layer_sizes=(100,), learning_rate='constant',\n",
       "       learning_rate_init=0.001, max_iter=200, momentum=0.9,\n",
       "       nesterovs_momentum=True, power_t=0.5, random_state=None,\n",
       "       shuffle=True, solver='adam', tol=0.0001, validation_fraction=0.1,\n",
       "       verbose=True, warm_start=False)"
      ]
     },
     "execution_count": 14,
     "metadata": {},
     "output_type": "execute_result"
    }
   ],
   "source": [
    "classifier"
   ]
  },
  {
   "cell_type": "markdown",
   "metadata": {},
   "source": [
    "First we will try to change de number of nodes in the hidden layer to see if there is any improvment. Based on the results we will check the next steps."
   ]
  },
  {
   "cell_type": "code",
   "execution_count": 17,
   "metadata": {},
   "outputs": [
    {
     "name": "stdout",
     "output_type": "stream",
     "text": [
      "Accuracy: 0.9146419933879163\n",
      "Iteration: 0 HiddenLayers: {84}\n"
     ]
    },
    {
     "ename": "KeyboardInterrupt",
     "evalue": "",
     "output_type": "error",
     "traceback": [
      "\u001b[0;31m---------------------------------------------------------------------------\u001b[0m",
      "\u001b[0;31mKeyboardInterrupt\u001b[0m                         Traceback (most recent call last)",
      "\u001b[0;32m<ipython-input-17-0d56a0c3ccde>\u001b[0m in \u001b[0;36m<module>\u001b[0;34m()\u001b[0m\n\u001b[1;32m      8\u001b[0m         \u001b[0my\u001b[0m \u001b[0;34m=\u001b[0m \u001b[0mdf_for_reg\u001b[0m\u001b[0;34m[\u001b[0m\u001b[0;34m'INTERESTED'\u001b[0m\u001b[0;34m]\u001b[0m\u001b[0;34m.\u001b[0m\u001b[0mvalues\u001b[0m\u001b[0;34m\u001b[0m\u001b[0m\n\u001b[1;32m      9\u001b[0m         \u001b[0mx\u001b[0m \u001b[0;34m=\u001b[0m \u001b[0mdf_for_reg\u001b[0m\u001b[0;34m.\u001b[0m\u001b[0mloc\u001b[0m\u001b[0;34m[\u001b[0m\u001b[0;34m:\u001b[0m\u001b[0;34m,\u001b[0m \u001b[0mdf_for_reg\u001b[0m\u001b[0;34m.\u001b[0m\u001b[0mcolumns\u001b[0m \u001b[0;34m!=\u001b[0m \u001b[0;34m'INTERESTED'\u001b[0m\u001b[0;34m]\u001b[0m\u001b[0;34m.\u001b[0m\u001b[0mvalues\u001b[0m\u001b[0;34m\u001b[0m\u001b[0m\n\u001b[0;32m---> 10\u001b[0;31m         \u001b[0mX_train\u001b[0m\u001b[0;34m,\u001b[0m \u001b[0mX_test\u001b[0m\u001b[0;34m,\u001b[0m \u001b[0my_train\u001b[0m\u001b[0;34m,\u001b[0m \u001b[0my_test\u001b[0m \u001b[0;34m=\u001b[0m \u001b[0mtrain_test_split\u001b[0m\u001b[0;34m(\u001b[0m\u001b[0mx\u001b[0m\u001b[0;34m,\u001b[0m \u001b[0my\u001b[0m\u001b[0;34m)\u001b[0m\u001b[0;34m\u001b[0m\u001b[0m\n\u001b[0m\u001b[1;32m     11\u001b[0m         \u001b[0mclassifier\u001b[0m\u001b[0;34m.\u001b[0m\u001b[0mfit\u001b[0m\u001b[0;34m(\u001b[0m\u001b[0mX_train\u001b[0m\u001b[0;34m,\u001b[0m \u001b[0my_train\u001b[0m\u001b[0;34m)\u001b[0m\u001b[0;34m\u001b[0m\u001b[0m\n\u001b[1;32m     12\u001b[0m         \u001b[0mresult\u001b[0m \u001b[0;34m=\u001b[0m\u001b[0mclassifier\u001b[0m\u001b[0;34m.\u001b[0m\u001b[0mscore\u001b[0m\u001b[0;34m(\u001b[0m\u001b[0mX_test\u001b[0m\u001b[0;34m,\u001b[0m\u001b[0my_test\u001b[0m\u001b[0;34m)\u001b[0m\u001b[0;34m\u001b[0m\u001b[0m\n",
      "\u001b[0;32m~/anaconda3/envs/dlnd-tf-lab/lib/python3.5/site-packages/sklearn/model_selection/_split.py\u001b[0m in \u001b[0;36mtrain_test_split\u001b[0;34m(*arrays, **options)\u001b[0m\n\u001b[1;32m   1673\u001b[0m     \u001b[0mtrain\u001b[0m\u001b[0;34m,\u001b[0m \u001b[0mtest\u001b[0m \u001b[0;34m=\u001b[0m \u001b[0mnext\u001b[0m\u001b[0;34m(\u001b[0m\u001b[0mcv\u001b[0m\u001b[0;34m.\u001b[0m\u001b[0msplit\u001b[0m\u001b[0;34m(\u001b[0m\u001b[0mX\u001b[0m\u001b[0;34m=\u001b[0m\u001b[0marrays\u001b[0m\u001b[0;34m[\u001b[0m\u001b[0;36m0\u001b[0m\u001b[0;34m]\u001b[0m\u001b[0;34m,\u001b[0m \u001b[0my\u001b[0m\u001b[0;34m=\u001b[0m\u001b[0mstratify\u001b[0m\u001b[0;34m)\u001b[0m\u001b[0;34m)\u001b[0m\u001b[0;34m\u001b[0m\u001b[0m\n\u001b[1;32m   1674\u001b[0m     return list(chain.from_iterable((safe_indexing(a, train),\n\u001b[0;32m-> 1675\u001b[0;31m                                      safe_indexing(a, test)) for a in arrays))\n\u001b[0m\u001b[1;32m   1676\u001b[0m \u001b[0;34m\u001b[0m\u001b[0m\n\u001b[1;32m   1677\u001b[0m \u001b[0;34m\u001b[0m\u001b[0m\n",
      "\u001b[0;32m~/anaconda3/envs/dlnd-tf-lab/lib/python3.5/site-packages/sklearn/model_selection/_split.py\u001b[0m in \u001b[0;36m<genexpr>\u001b[0;34m(.0)\u001b[0m\n\u001b[1;32m   1673\u001b[0m     \u001b[0mtrain\u001b[0m\u001b[0;34m,\u001b[0m \u001b[0mtest\u001b[0m \u001b[0;34m=\u001b[0m \u001b[0mnext\u001b[0m\u001b[0;34m(\u001b[0m\u001b[0mcv\u001b[0m\u001b[0;34m.\u001b[0m\u001b[0msplit\u001b[0m\u001b[0;34m(\u001b[0m\u001b[0mX\u001b[0m\u001b[0;34m=\u001b[0m\u001b[0marrays\u001b[0m\u001b[0;34m[\u001b[0m\u001b[0;36m0\u001b[0m\u001b[0;34m]\u001b[0m\u001b[0;34m,\u001b[0m \u001b[0my\u001b[0m\u001b[0;34m=\u001b[0m\u001b[0mstratify\u001b[0m\u001b[0;34m)\u001b[0m\u001b[0;34m)\u001b[0m\u001b[0;34m\u001b[0m\u001b[0m\n\u001b[1;32m   1674\u001b[0m     return list(chain.from_iterable((safe_indexing(a, train),\n\u001b[0;32m-> 1675\u001b[0;31m                                      safe_indexing(a, test)) for a in arrays))\n\u001b[0m\u001b[1;32m   1676\u001b[0m \u001b[0;34m\u001b[0m\u001b[0m\n\u001b[1;32m   1677\u001b[0m \u001b[0;34m\u001b[0m\u001b[0m\n",
      "\u001b[0;32m~/anaconda3/envs/dlnd-tf-lab/lib/python3.5/site-packages/sklearn/utils/__init__.py\u001b[0m in \u001b[0;36msafe_indexing\u001b[0;34m(X, indices)\u001b[0m\n\u001b[1;32m    108\u001b[0m                                    indices.dtype.kind == 'i'):\n\u001b[1;32m    109\u001b[0m             \u001b[0;31m# This is often substantially faster than X[indices]\u001b[0m\u001b[0;34m\u001b[0m\u001b[0;34m\u001b[0m\u001b[0m\n\u001b[0;32m--> 110\u001b[0;31m             \u001b[0;32mreturn\u001b[0m \u001b[0mX\u001b[0m\u001b[0;34m.\u001b[0m\u001b[0mtake\u001b[0m\u001b[0;34m(\u001b[0m\u001b[0mindices\u001b[0m\u001b[0;34m,\u001b[0m \u001b[0maxis\u001b[0m\u001b[0;34m=\u001b[0m\u001b[0;36m0\u001b[0m\u001b[0;34m)\u001b[0m\u001b[0;34m\u001b[0m\u001b[0m\n\u001b[0m\u001b[1;32m    111\u001b[0m         \u001b[0;32melse\u001b[0m\u001b[0;34m:\u001b[0m\u001b[0;34m\u001b[0m\u001b[0m\n\u001b[1;32m    112\u001b[0m             \u001b[0;32mreturn\u001b[0m \u001b[0mX\u001b[0m\u001b[0;34m[\u001b[0m\u001b[0mindices\u001b[0m\u001b[0;34m]\u001b[0m\u001b[0;34m\u001b[0m\u001b[0m\n",
      "\u001b[0;31mKeyboardInterrupt\u001b[0m: "
     ]
    }
   ],
   "source": [
    "features= len(df_for_reg.columns)\n",
    "bestHidden = ()\n",
    "bestAc = 0;\n",
    "for i in range(1,3):\n",
    "    for j in range(5):        \n",
    "        hidden_layers = set(np.random.randint(features*0.20,high=features*0.80,size=(1,i))[0])       \n",
    "        classifier = MLPClassifier(hidden_layer_sizes=hidden_layers)\n",
    "        y = df_for_reg['INTERESTED'].values\n",
    "        x = df_for_reg.loc[:, df_for_reg.columns != 'INTERESTED'].values\n",
    "        X_train, X_test, y_train, y_test = train_test_split(x, y)  \n",
    "        classifier.fit(X_train, y_train)  \n",
    "        result =classifier.score(X_test,y_test)\n",
    "        if(bestAc<result):\n",
    "            bestAc = result\n",
    "            bestHidden = hidden_layers        \n",
    "            print(\"Accuracy: \" + str(result))\n",
    "            print(\"Iteration: \"+ str(j) +\" HiddenLayers: \" + str(hidden_layers))\n",
    "        \n"
   ]
  },
  {
   "cell_type": "markdown",
   "metadata": {},
   "source": [
    "There was no great improvment on the accuracy on this path so we will keep on 2 layers (features, features/2). Now we will try to improve the parameters of the MLP. We will keep the ReLu because itś the most modern activation function. But we will change the rest to achieve a better performance. "
   ]
  },
  {
   "cell_type": "code",
   "execution_count": 18,
   "metadata": {},
   "outputs": [
    {
     "name": "stdout",
     "output_type": "stream",
     "text": [
      "Iteration 1, loss = 0.38841898\n",
      "Iteration 2, loss = 0.38532696\n",
      "Iteration 3, loss = 0.34168866\n",
      "Iteration 4, loss = 0.32654298\n",
      "Iteration 5, loss = 0.32013656\n",
      "Iteration 6, loss = 0.31682868\n",
      "Iteration 7, loss = 0.31501522\n",
      "Iteration 8, loss = 0.31373360\n",
      "Iteration 9, loss = 0.31276521\n",
      "Iteration 10, loss = 0.31202331\n",
      "Accuracy: 0.9132441367680667\n"
     ]
    }
   ],
   "source": [
    "features= len(df_for_reg.columns)\n",
    "hidden_layers = (features, int(features*0.75))\n",
    "classifier_invscaling = MLPClassifier(verbose=True, hidden_layer_sizes=hidden_layers,learning_rate='invscaling',solver='sgd')\n",
    "y = df_for_reg['INTERESTED'].values\n",
    "x = df_for_reg.loc[:, df_for_reg.columns != 'INTERESTED'].values\n",
    "X_train, X_test, y_train, y_test = train_test_split(x, y)  \n",
    "classifier_invscaling.fit(X_train, y_train)  \n",
    "result =classifier_invscaling.score(X_test,y_test)\n",
    "print(\"Accuracy: \" + str(result))\n"
   ]
  },
  {
   "cell_type": "code",
   "execution_count": 23,
   "metadata": {},
   "outputs": [
    {
     "name": "stdout",
     "output_type": "stream",
     "text": [
      "Iteration 1, loss = 0.38219318\n",
      "Iteration 2, loss = 0.30630808\n",
      "Iteration 3, loss = 0.30248198\n",
      "Iteration 4, loss = 0.30026451\n",
      "Iteration 5, loss = 0.30034231\n",
      "Iteration 6, loss = 0.29663178\n",
      "Iteration 7, loss = 0.29570704\n",
      "Iteration 8, loss = 0.29539211\n",
      "Iteration 9, loss = 0.29530498\n",
      "Iteration 10, loss = 0.29373458\n",
      "Iteration 11, loss = 0.29292255\n",
      "Iteration 12, loss = 0.29253369\n",
      "Iteration 13, loss = 0.29295028\n",
      "Iteration 14, loss = 0.29174020\n",
      "Iteration 15, loss = 0.29100245\n",
      "Iteration 16, loss = 0.29046989\n",
      "Iteration 17, loss = 0.29048739\n",
      "Iteration 18, loss = 0.29011551\n",
      "Iteration 19, loss = 0.28913195\n",
      "Iteration 20, loss = 0.28912507\n",
      "Iteration 21, loss = 0.28939464\n",
      "Iteration 22, loss = 0.28841806\n",
      "Iteration 23, loss = 0.28834277\n",
      "Iteration 24, loss = 0.29732936\n",
      "Iteration 25, loss = 0.29639548\n",
      "Training loss did not improve more than tol=0.000100 for two consecutive epochs. Setting learning rate to 0.000200\n",
      "Iteration 26, loss = 0.29230980\n",
      "Iteration 27, loss = 0.28956829\n",
      "Iteration 28, loss = 0.28870447\n",
      "Training loss did not improve more than tol=0.000100 for two consecutive epochs. Setting learning rate to 0.000040\n",
      "Iteration 29, loss = 0.28777383\n",
      "Iteration 30, loss = 0.28754156\n",
      "Iteration 31, loss = 0.28721653\n",
      "Iteration 32, loss = 0.28703783\n",
      "Iteration 33, loss = 0.28691969\n",
      "Iteration 34, loss = 0.28683885\n",
      "Iteration 35, loss = 0.28666603\n",
      "Iteration 36, loss = 0.28687449\n",
      "Iteration 37, loss = 0.28683695\n",
      "Iteration 38, loss = 0.28676756\n",
      "Training loss did not improve more than tol=0.000100 for two consecutive epochs. Setting learning rate to 0.000008\n",
      "Iteration 39, loss = 0.28640518\n",
      "Iteration 40, loss = 0.28632658\n",
      "Iteration 41, loss = 0.28631654\n",
      "Iteration 42, loss = 0.28634837\n",
      "Training loss did not improve more than tol=0.000100 for two consecutive epochs. Setting learning rate to 0.000002\n",
      "Iteration 43, loss = 0.28625183\n",
      "Iteration 44, loss = 0.28623375\n",
      "Iteration 45, loss = 0.28622848\n",
      "Training loss did not improve more than tol=0.000100 for two consecutive epochs. Setting learning rate to 0.000000\n",
      "Iteration 46, loss = 0.28621294\n",
      "Iteration 47, loss = 0.28621108\n",
      "Iteration 48, loss = 0.28620897\n",
      "Training loss did not improve more than tol=0.000100 for two consecutive epochs. Learning rate too small. Stopping.\n",
      "Accuracy: 0.9132885131686969\n"
     ]
    }
   ],
   "source": [
    "hidden_layers = (features, int(features/2))\n",
    "classifier_adaptive = MLPClassifier(verbose=True, hidden_layer_sizes=hidden_layers,learning_rate='adaptive',solver='sgd')\n",
    "y = df_for_reg['INTERESTED'].values\n",
    "x = df_for_reg.loc[:, df_for_reg.columns != 'INTERESTED'].values\n",
    "X_train, X_test, y_train, y_test = train_test_split(x, y)  \n",
    "classifier_adaptive.fit(X_train, y_train)  \n",
    "result =classifier_adaptive.score(X_test,y_test)\n",
    "print(\"Accuracy: \" + str(result))"
   ]
  },
  {
   "cell_type": "markdown",
   "metadata": {},
   "source": [
    "The best accurary was never over 91% so we need to go bacck and try to engeneer the features to see if we can improve on this algorithm. If that doesn't change we will try other algorithms. The first thing is transform the numerical features in buckets for categorization and after that try to apply the algorithms again."
   ]
  },
  {
   "cell_type": "code",
   "execution_count": 24,
   "metadata": {},
   "outputs": [
    {
     "data": {
      "text/html": [
       "<div>\n",
       "<style scoped>\n",
       "    .dataframe tbody tr th:only-of-type {\n",
       "        vertical-align: middle;\n",
       "    }\n",
       "\n",
       "    .dataframe tbody tr th {\n",
       "        vertical-align: top;\n",
       "    }\n",
       "\n",
       "    .dataframe thead th {\n",
       "        text-align: right;\n",
       "    }\n",
       "</style>\n",
       "<table border=\"1\" class=\"dataframe\">\n",
       "  <thead>\n",
       "    <tr style=\"text-align: right;\">\n",
       "      <th></th>\n",
       "      <th>ALTURA</th>\n",
       "      <th>CAPACIDADE_(L)</th>\n",
       "      <th>LARGURA</th>\n",
       "      <th>PESO</th>\n",
       "      <th>PROFUNDIDADE</th>\n",
       "      <th>TEMPO_GARANTIA</th>\n",
       "      <th>ITEM_PRICE</th>\n",
       "    </tr>\n",
       "  </thead>\n",
       "  <tbody>\n",
       "    <tr>\n",
       "      <th>count</th>\n",
       "      <td>180275.000000</td>\n",
       "      <td>180275.000000</td>\n",
       "      <td>180275.000000</td>\n",
       "      <td>180275.000000</td>\n",
       "      <td>180275.000000</td>\n",
       "      <td>180275.000000</td>\n",
       "      <td>180275.000000</td>\n",
       "    </tr>\n",
       "    <tr>\n",
       "      <th>mean</th>\n",
       "      <td>29.106552</td>\n",
       "      <td>1.826867</td>\n",
       "      <td>26.680072</td>\n",
       "      <td>170.390221</td>\n",
       "      <td>33.136967</td>\n",
       "      <td>9.765170</td>\n",
       "      <td>118.584038</td>\n",
       "    </tr>\n",
       "    <tr>\n",
       "      <th>std</th>\n",
       "      <td>15.785682</td>\n",
       "      <td>2.349141</td>\n",
       "      <td>11.451800</td>\n",
       "      <td>1286.478914</td>\n",
       "      <td>16.415044</td>\n",
       "      <td>36.510763</td>\n",
       "      <td>136.281879</td>\n",
       "    </tr>\n",
       "    <tr>\n",
       "      <th>min</th>\n",
       "      <td>2.000000</td>\n",
       "      <td>0.045000</td>\n",
       "      <td>4.500000</td>\n",
       "      <td>0.619000</td>\n",
       "      <td>2.500000</td>\n",
       "      <td>1.000000</td>\n",
       "      <td>0.550000</td>\n",
       "    </tr>\n",
       "    <tr>\n",
       "      <th>25%</th>\n",
       "      <td>16.000000</td>\n",
       "      <td>0.045000</td>\n",
       "      <td>18.500000</td>\n",
       "      <td>0.619000</td>\n",
       "      <td>18.500000</td>\n",
       "      <td>1.000000</td>\n",
       "      <td>60.900000</td>\n",
       "    </tr>\n",
       "    <tr>\n",
       "      <th>50%</th>\n",
       "      <td>28.000000</td>\n",
       "      <td>0.045000</td>\n",
       "      <td>26.000000</td>\n",
       "      <td>60.000000</td>\n",
       "      <td>36.500000</td>\n",
       "      <td>3.000000</td>\n",
       "      <td>100.339412</td>\n",
       "    </tr>\n",
       "    <tr>\n",
       "      <th>75%</th>\n",
       "      <td>42.700000</td>\n",
       "      <td>4.500000</td>\n",
       "      <td>32.700000</td>\n",
       "      <td>160.000000</td>\n",
       "      <td>47.000000</td>\n",
       "      <td>12.000000</td>\n",
       "      <td>139.900000</td>\n",
       "    </tr>\n",
       "    <tr>\n",
       "      <th>max</th>\n",
       "      <td>84.000000</td>\n",
       "      <td>11.000000</td>\n",
       "      <td>91.000000</td>\n",
       "      <td>44400.000000</td>\n",
       "      <td>148.000000</td>\n",
       "      <td>300.000000</td>\n",
       "      <td>2274.990000</td>\n",
       "    </tr>\n",
       "  </tbody>\n",
       "</table>\n",
       "</div>"
      ],
      "text/plain": [
       "              ALTURA  CAPACIDADE_(L)        LARGURA           PESO  \\\n",
       "count  180275.000000   180275.000000  180275.000000  180275.000000   \n",
       "mean       29.106552        1.826867      26.680072     170.390221   \n",
       "std        15.785682        2.349141      11.451800    1286.478914   \n",
       "min         2.000000        0.045000       4.500000       0.619000   \n",
       "25%        16.000000        0.045000      18.500000       0.619000   \n",
       "50%        28.000000        0.045000      26.000000      60.000000   \n",
       "75%        42.700000        4.500000      32.700000     160.000000   \n",
       "max        84.000000       11.000000      91.000000   44400.000000   \n",
       "\n",
       "        PROFUNDIDADE  TEMPO_GARANTIA     ITEM_PRICE  \n",
       "count  180275.000000   180275.000000  180275.000000  \n",
       "mean       33.136967        9.765170     118.584038  \n",
       "std        16.415044       36.510763     136.281879  \n",
       "min         2.500000        1.000000       0.550000  \n",
       "25%        18.500000        1.000000      60.900000  \n",
       "50%        36.500000        3.000000     100.339412  \n",
       "75%        47.000000       12.000000     139.900000  \n",
       "max       148.000000      300.000000    2274.990000  "
      ]
     },
     "execution_count": 24,
     "metadata": {},
     "output_type": "execute_result"
    }
   ],
   "source": [
    "df[numerical_cols].describe()"
   ]
  },
  {
   "cell_type": "code",
   "execution_count": 25,
   "metadata": {},
   "outputs": [],
   "source": [
    "df['ALTURA_BIN'] = pd.cut(df['ALTURA'], [0,2,16,28,43,84],labels=[1,2,3,4,5])\n",
    "df['CAPACIDADE_BIN'] = pd.cut(df['CAPACIDADE_(L)'], [0,0.045,4.5,11],labels=[1,2,3])\n",
    "df['LARGURA_BIN'] = pd.cut(df['LARGURA'], [0,4.5,18.5,26,33,91],labels=[1,2,3,4,5])\n",
    "df['PESO_BIN'] = pd.cut(df['PESO'], [0,0.62,60,160,44400],labels=[1,2,3,4])\n",
    "df['PROFUNDIDADE_BIN'] = pd.cut(df['PROFUNDIDADE'], [0,2.5,18.5,36.5,47,148],labels=[1,2,3,4,5])\n",
    "df['TEMPO_GARANTIA_BIN'] = pd.cut(df['TEMPO_GARANTIA'], [0,1,3,12,300],labels=[1,2,3,4])\n",
    "df['ITEM_PRICE_BIN'] = pd.cut(df['ITEM_PRICE'], [0,0.55,61,100,139,2275],labels=[1,2,3,4,5])\n",
    "df_for_reg2 = df.copy(deep=True)\n",
    "df_for_reg2 = df_for_reg2.drop(columns = numerical_cols)\n",
    "df_for_reg2 = pd.get_dummies(df_for_reg2, columns=categorical_cols)\n",
    "df_for_reg2 = pd.get_dummies(df_for_reg2, columns=['ALTURA_BIN','CAPACIDADE_BIN','PESO_BIN','PROFUNDIDADE_BIN','TEMPO_GARANTIA_BIN','ITEM_PRICE_BIN'])\n",
    "df_for_reg2 = df_for_reg2.drop(columns=['ITEM_ID'])\n",
    "df_for_reg2 = df_for_reg2.apply(pd.to_numeric, errors='ignore')"
   ]
  },
  {
   "cell_type": "code",
   "execution_count": 26,
   "metadata": {},
   "outputs": [
    {
     "name": "stdout",
     "output_type": "stream",
     "text": [
      "Iteration: 0 HiddenLayers: {124}\n",
      "Accuracy: 0.9138654063768887\n",
      "Iteration: 3 HiddenLayers: {54}\n",
      "Accuracy: 0.9159289090061905\n"
     ]
    }
   ],
   "source": [
    "features = df_for_reg2.shape[1]\n",
    "bestHidden = ()\n",
    "bestAc = 0\n",
    "for i in range(1,3):\n",
    "    for j in range(5):  \n",
    "        hidden_layers = set(np.random.randint(features*0.20,high=features*0.80,size=(1,i))[0])\n",
    "        \n",
    "        classifier = MLPClassifier(hidden_layer_sizes=hidden_layers)\n",
    "        y = df_for_reg['INTERESTED'].values.astype(float)\n",
    "        x = df_for_reg.loc[:, df_for_reg.columns != 'INTERESTED'].values.astype(float)\n",
    "        X_train, X_test, y_train, y_test = train_test_split(x, y)  \n",
    "        classifier.fit(X_train, y_train)  \n",
    "        result =classifier.score(X_test,y_test)\n",
    "        if(bestAc<result):\n",
    "            bestAc = result\n",
    "            bestHidden = hidden_layers        \n",
    "            print(\"Iteration: \"+ str(j) +\" HiddenLayers: \" + str(hidden_layers))\n",
    "            print(\"Accuracy: \" + str(result))"
   ]
  },
  {
   "cell_type": "code",
   "execution_count": 27,
   "metadata": {
    "scrolled": true
   },
   "outputs": [
    {
     "data": {
      "text/plain": [
       "MLPClassifier(activation='relu', alpha=0.0001, batch_size='auto', beta_1=0.9,\n",
       "       beta_2=0.999, early_stopping=False, epsilon=1e-08,\n",
       "       hidden_layer_sizes=(161, 80), learning_rate='adaptive',\n",
       "       learning_rate_init=0.001, max_iter=200, momentum=0.9,\n",
       "       nesterovs_momentum=True, power_t=0.5, random_state=None,\n",
       "       shuffle=True, solver='sgd', tol=0.0001, validation_fraction=0.1,\n",
       "       verbose=True, warm_start=False)"
      ]
     },
     "execution_count": 27,
     "metadata": {},
     "output_type": "execute_result"
    }
   ],
   "source": [
    "classifier_adaptive"
   ]
  },
  {
   "cell_type": "code",
   "execution_count": 28,
   "metadata": {
    "scrolled": true
   },
   "outputs": [
    {
     "name": "stdout",
     "output_type": "stream",
     "text": [
      "Iteration 1, loss = 0.28536227\n",
      "Iteration 2, loss = 0.27948827\n",
      "Iteration 3, loss = 0.27795917\n",
      "Iteration 4, loss = 0.27746322\n",
      "Iteration 5, loss = 0.27679051\n",
      "Iteration 6, loss = 0.27651032\n",
      "Iteration 7, loss = 0.27611235\n",
      "Iteration 8, loss = 0.27605947\n",
      "Iteration 9, loss = 0.27579331\n",
      "Iteration 10, loss = 0.27550556\n",
      "Iteration 11, loss = 0.27535420\n",
      "Iteration 12, loss = 0.27547403\n",
      "Iteration 13, loss = 0.27532072\n",
      "Iteration 14, loss = 0.27508393\n",
      "Iteration 15, loss = 0.27496148\n",
      "Iteration 16, loss = 0.27473236\n",
      "Iteration 17, loss = 0.27476422\n",
      "Iteration 18, loss = 0.27452503\n",
      "Iteration 19, loss = 0.27462458\n",
      "Iteration 20, loss = 0.27449506\n",
      "Iteration 21, loss = 0.27452484\n",
      "Training loss did not improve more than tol=0.000100 for two consecutive epochs. Setting learning rate to 0.020000\n",
      "Iteration 22, loss = 0.27362932\n",
      "Iteration 23, loss = 0.27339368\n",
      "Iteration 24, loss = 0.27336190\n",
      "Iteration 25, loss = 0.27328342\n",
      "Iteration 26, loss = 0.27328979\n",
      "Training loss did not improve more than tol=0.000100 for two consecutive epochs. Setting learning rate to 0.004000\n",
      "Iteration 27, loss = 0.27301666\n",
      "Iteration 28, loss = 0.27296608\n",
      "Iteration 29, loss = 0.27296159\n",
      "Iteration 30, loss = 0.27296115\n",
      "Training loss did not improve more than tol=0.000100 for two consecutive epochs. Setting learning rate to 0.000800\n",
      "Iteration 31, loss = 0.27288078\n",
      "Iteration 32, loss = 0.27287453\n",
      "Iteration 33, loss = 0.27287350\n",
      "Training loss did not improve more than tol=0.000100 for two consecutive epochs. Setting learning rate to 0.000160\n",
      "Iteration 34, loss = 0.27285556\n",
      "Iteration 35, loss = 0.27285512\n",
      "Iteration 36, loss = 0.27285481\n",
      "Training loss did not improve more than tol=0.000100 for two consecutive epochs. Setting learning rate to 0.000032\n",
      "Iteration 37, loss = 0.27285099\n",
      "Iteration 38, loss = 0.27285088\n",
      "Iteration 39, loss = 0.27285075\n",
      "Training loss did not improve more than tol=0.000100 for two consecutive epochs. Setting learning rate to 0.000006\n",
      "Iteration 40, loss = 0.27285007\n",
      "Iteration 41, loss = 0.27285006\n",
      "Iteration 42, loss = 0.27285003\n",
      "Training loss did not improve more than tol=0.000100 for two consecutive epochs. Setting learning rate to 0.000001\n",
      "Iteration 43, loss = 0.27284989\n",
      "Iteration 44, loss = 0.27284989\n",
      "Iteration 45, loss = 0.27284988\n",
      "Training loss did not improve more than tol=0.000100 for two consecutive epochs. Setting learning rate to 0.000000\n",
      "Iteration 46, loss = 0.27284985\n",
      "Iteration 47, loss = 0.27284985\n",
      "Iteration 48, loss = 0.27284985\n",
      "Training loss did not improve more than tol=0.000100 for two consecutive epochs. Learning rate too small. Stopping.\n",
      "Accuracy: 0.913931970977834\n"
     ]
    }
   ],
   "source": [
    "hidden_layers = set([features,int(features*0.5)])\n",
    "y = df_for_reg2['INTERESTED'].values.astype(float)\n",
    "x = df_for_reg2.loc[:, df_for_reg2.columns != 'INTERESTED'].values.astype(float)\n",
    "X_train, X_test, y_train, y_test = train_test_split(x, y)  \n",
    "classifier_adaptive = MLPClassifier(verbose=True, hidden_layer_sizes=hidden_layers,learning_rate_init=0.1,learning_rate='adaptive',solver='sgd')\n",
    "classifier_adaptive.fit(X_train, y_train)  \n",
    "result =classifier_adaptive.score(X_test,y_test)\n",
    "print(\"Accuracy: \" + str(result))"
   ]
  },
  {
   "cell_type": "markdown",
   "metadata": {},
   "source": [
    "We still didn't have any significant improvment. Let's try another Machine Learning Algorithm. Let's try SVM."
   ]
  },
  {
   "cell_type": "code",
   "execution_count": null,
   "metadata": {},
   "outputs": [],
   "source": [
    "from sklearn.svm import SVC\n",
    "svm = SVC(verbose=True).fit(X_train, y_train)\n",
    "result =svm.score(X_test,y_test)\n",
    "print(\"Accuracy: \" + str(result))\n"
   ]
  },
  {
   "cell_type": "markdown",
   "metadata": {},
   "source": [
    "There is no significant difference in accuracy. However we can also encode de output in two classes, that way each outuput neuron can especialize in detect if the product is or not interessting."
   ]
  },
  {
   "cell_type": "code",
   "execution_count": 29,
   "metadata": {},
   "outputs": [],
   "source": [
    "categorical_col= ['INTERESTED']\n",
    "df_for_reg3 = pd.get_dummies(df_for_reg2, columns=categorical_col).copy(deep=True)\n",
    "df_for_reg3 = df_for_reg3.apply(pd.to_numeric, errors='ignore')"
   ]
  },
  {
   "cell_type": "code",
   "execution_count": 30,
   "metadata": {},
   "outputs": [
    {
     "name": "stdout",
     "output_type": "stream",
     "text": [
      "Iteration 1, loss = 0.57567180\n",
      "Iteration 2, loss = 0.56654053\n",
      "Iteration 3, loss = 0.56216501\n",
      "Iteration 4, loss = 0.56237939\n",
      "Iteration 5, loss = 0.55990309\n",
      "Iteration 6, loss = 0.55865787\n",
      "Iteration 7, loss = 0.55823679\n",
      "Iteration 8, loss = 0.55760085\n",
      "Iteration 9, loss = 0.55811074\n",
      "Iteration 10, loss = 0.55726305\n",
      "Iteration 11, loss = 0.55649527\n",
      "Iteration 12, loss = 0.55629189\n",
      "Iteration 13, loss = 0.55645992\n",
      "Iteration 14, loss = 0.55614275\n",
      "Iteration 15, loss = 0.55560172\n",
      "Iteration 16, loss = 0.55539739\n",
      "Iteration 17, loss = 0.55525817\n",
      "Iteration 18, loss = 0.55515597\n",
      "Iteration 19, loss = 0.55487618\n",
      "Iteration 20, loss = 0.55485593\n",
      "Iteration 21, loss = 0.55458602\n",
      "Iteration 22, loss = 0.55442223\n",
      "Iteration 23, loss = 0.55443952\n",
      "Iteration 24, loss = 0.55492155\n",
      "Iteration 25, loss = 0.55452025\n",
      "Training loss did not improve more than tol=0.000100 for two consecutive epochs. Setting learning rate to 0.020000\n",
      "Iteration 26, loss = 0.55257664\n",
      "Iteration 27, loss = 0.55229787\n",
      "Iteration 28, loss = 0.55219996\n",
      "Iteration 29, loss = 0.55206998\n",
      "Iteration 30, loss = 0.55216938\n",
      "Iteration 31, loss = 0.55197407\n",
      "Iteration 32, loss = 0.55198366\n",
      "Training loss did not improve more than tol=0.000100 for two consecutive epochs. Setting learning rate to 0.004000\n",
      "Iteration 33, loss = 0.55148138\n",
      "Iteration 34, loss = 0.55134974\n",
      "Iteration 35, loss = 0.55134682\n",
      "Iteration 36, loss = 0.55132735\n",
      "Iteration 37, loss = 0.55132254\n",
      "Training loss did not improve more than tol=0.000100 for two consecutive epochs. Setting learning rate to 0.000800\n",
      "Iteration 38, loss = 0.55126341\n",
      "Iteration 39, loss = 0.55121401\n",
      "Iteration 40, loss = 0.55118877\n",
      "Training loss did not improve more than tol=0.000100 for two consecutive epochs. Setting learning rate to 0.000160\n",
      "Iteration 41, loss = 0.55114666\n",
      "Iteration 42, loss = 0.55114385\n",
      "Iteration 43, loss = 0.55114136\n",
      "Training loss did not improve more than tol=0.000100 for two consecutive epochs. Setting learning rate to 0.000032\n",
      "Iteration 44, loss = 0.55113293\n",
      "Iteration 45, loss = 0.55113249\n",
      "Iteration 46, loss = 0.55113198\n",
      "Training loss did not improve more than tol=0.000100 for two consecutive epochs. Setting learning rate to 0.000006\n",
      "Iteration 47, loss = 0.55113034\n",
      "Iteration 48, loss = 0.55113026\n",
      "Iteration 49, loss = 0.55113018\n",
      "Training loss did not improve more than tol=0.000100 for two consecutive epochs. Setting learning rate to 0.000001\n",
      "Iteration 50, loss = 0.55112985\n",
      "Iteration 51, loss = 0.55112983\n",
      "Iteration 52, loss = 0.55112981\n",
      "Training loss did not improve more than tol=0.000100 for two consecutive epochs. Setting learning rate to 0.000000\n",
      "Iteration 53, loss = 0.55112975\n",
      "Iteration 54, loss = 0.55112974\n",
      "Iteration 55, loss = 0.55112974\n",
      "Training loss did not improve more than tol=0.000100 for two consecutive epochs. Learning rate too small. Stopping.\n",
      "Accuracy: 0.9179480352348621\n"
     ]
    }
   ],
   "source": [
    "resultcols =[k for k in df_for_reg3.columns if k.find(\"INTERESTED\")!=-1]\n",
    "y = df_for_reg3[resultcols].values\n",
    "x = df_for_reg3[df_for_reg3.columns.difference(resultcols)].values\n",
    "classifier = MLPClassifier(verbose=True, hidden_layer_sizes=(x.shape[1],int(x.shape[1]/2)),\n",
    "                           learning_rate_init = 0.1,\n",
    "                           learning_rate='adaptive',solver='sgd')  \n",
    "X_train, X_test, y_train, y_test = train_test_split(x, y)  \n",
    "classifier.fit(X_train, y_train)  \n",
    "result =classifier.score(X_test,y_test)\n",
    "print(\"Accuracy: \" + str(result))"
   ]
  },
  {
   "cell_type": "markdown",
   "metadata": {},
   "source": [
    "There was no improvement as well, so we will try to implementa more complex NN in tensor flow."
   ]
  },
  {
   "cell_type": "code",
   "execution_count": 31,
   "metadata": {
    "scrolled": true
   },
   "outputs": [
    {
     "name": "stdout",
     "output_type": "stream",
     "text": [
      "(135206, 160)\n",
      "(135206, 2)\n"
     ]
    }
   ],
   "source": [
    "print(X_train.shape)\n",
    "print(y_train.shape)"
   ]
  },
  {
   "cell_type": "code",
   "execution_count": 51,
   "metadata": {},
   "outputs": [
    {
     "name": "stdout",
     "output_type": "stream",
     "text": [
      "Epoch 0   - Training Accuracy: 10.4559%\n",
      "Epoch 0   - Validation Accuracy: 10.5993%\n",
      "Epoch 10  - Training Accuracy: 91.3746%\n",
      "Epoch 10  - Validation Accuracy: 91.4243%\n",
      "Epoch 20  - Training Accuracy: 91.3746%\n",
      "Epoch 20  - Validation Accuracy: 91.4243%\n",
      "Epoch 30  - Training Accuracy: 91.3746%\n",
      "Epoch 30  - Validation Accuracy: 91.4243%\n",
      "Epoch 40  - Training Accuracy: 91.3746%\n",
      "Epoch 40  - Validation Accuracy: 91.4243%\n",
      "Epoch 42 \r"
     ]
    },
    {
     "ename": "KeyboardInterrupt",
     "evalue": "",
     "output_type": "error",
     "traceback": [
      "\u001b[0;31m---------------------------------------------------------------------------\u001b[0m",
      "\u001b[0;31mKeyboardInterrupt\u001b[0m                         Traceback (most recent call last)",
      "\u001b[0;32m<ipython-input-51-7326f98c0976>\u001b[0m in \u001b[0;36m<module>\u001b[0;34m()\u001b[0m\n\u001b[1;32m     58\u001b[0m \u001b[0;34m\u001b[0m\u001b[0m\n\u001b[1;32m     59\u001b[0m             \u001b[0;31m# feeding training data/examples\u001b[0m\u001b[0;34m\u001b[0m\u001b[0;34m\u001b[0m\u001b[0m\n\u001b[0;32m---> 60\u001b[0;31m             \u001b[0msess\u001b[0m\u001b[0;34m.\u001b[0m\u001b[0mrun\u001b[0m\u001b[0;34m(\u001b[0m\u001b[0moptimizer\u001b[0m\u001b[0;34m,\u001b[0m \u001b[0mfeed_dict\u001b[0m\u001b[0;34m=\u001b[0m\u001b[0;34m{\u001b[0m\u001b[0mx_tf\u001b[0m\u001b[0;34m:\u001b[0m\u001b[0mx_batch\u001b[0m \u001b[0;34m,\u001b[0m \u001b[0my_tf\u001b[0m\u001b[0;34m:\u001b[0m\u001b[0my_batch\u001b[0m\u001b[0;34m,\u001b[0m\u001b[0mkeep_prob\u001b[0m\u001b[0;34m:\u001b[0m\u001b[0;36m0.3\u001b[0m\u001b[0;34m}\u001b[0m\u001b[0;34m)\u001b[0m\u001b[0;34m\u001b[0m\u001b[0m\n\u001b[0m\u001b[1;32m     61\u001b[0m             \u001b[0;31m#print(\"{:.4%}\".format((i/len(X_train))), end='\\r')\u001b[0m\u001b[0;34m\u001b[0m\u001b[0;34m\u001b[0m\u001b[0m\n\u001b[1;32m     62\u001b[0m \u001b[0;34m\u001b[0m\u001b[0m\n",
      "\u001b[0;32m~/anaconda3/envs/dlnd-tf-lab/lib/python3.5/site-packages/tensorflow/python/client/session.py\u001b[0m in \u001b[0;36mrun\u001b[0;34m(self, fetches, feed_dict, options, run_metadata)\u001b[0m\n\u001b[1;32m    893\u001b[0m     \u001b[0;32mtry\u001b[0m\u001b[0;34m:\u001b[0m\u001b[0;34m\u001b[0m\u001b[0m\n\u001b[1;32m    894\u001b[0m       result = self._run(None, fetches, feed_dict, options_ptr,\n\u001b[0;32m--> 895\u001b[0;31m                          run_metadata_ptr)\n\u001b[0m\u001b[1;32m    896\u001b[0m       \u001b[0;32mif\u001b[0m \u001b[0mrun_metadata\u001b[0m\u001b[0;34m:\u001b[0m\u001b[0;34m\u001b[0m\u001b[0m\n\u001b[1;32m    897\u001b[0m         \u001b[0mproto_data\u001b[0m \u001b[0;34m=\u001b[0m \u001b[0mtf_session\u001b[0m\u001b[0;34m.\u001b[0m\u001b[0mTF_GetBuffer\u001b[0m\u001b[0;34m(\u001b[0m\u001b[0mrun_metadata_ptr\u001b[0m\u001b[0;34m)\u001b[0m\u001b[0;34m\u001b[0m\u001b[0m\n",
      "\u001b[0;32m~/anaconda3/envs/dlnd-tf-lab/lib/python3.5/site-packages/tensorflow/python/client/session.py\u001b[0m in \u001b[0;36m_run\u001b[0;34m(self, handle, fetches, feed_dict, options, run_metadata)\u001b[0m\n\u001b[1;32m   1122\u001b[0m     \u001b[0;32mif\u001b[0m \u001b[0mfinal_fetches\u001b[0m \u001b[0;32mor\u001b[0m \u001b[0mfinal_targets\u001b[0m \u001b[0;32mor\u001b[0m \u001b[0;34m(\u001b[0m\u001b[0mhandle\u001b[0m \u001b[0;32mand\u001b[0m \u001b[0mfeed_dict_tensor\u001b[0m\u001b[0;34m)\u001b[0m\u001b[0;34m:\u001b[0m\u001b[0;34m\u001b[0m\u001b[0m\n\u001b[1;32m   1123\u001b[0m       results = self._do_run(handle, final_targets, final_fetches,\n\u001b[0;32m-> 1124\u001b[0;31m                              feed_dict_tensor, options, run_metadata)\n\u001b[0m\u001b[1;32m   1125\u001b[0m     \u001b[0;32melse\u001b[0m\u001b[0;34m:\u001b[0m\u001b[0;34m\u001b[0m\u001b[0m\n\u001b[1;32m   1126\u001b[0m       \u001b[0mresults\u001b[0m \u001b[0;34m=\u001b[0m \u001b[0;34m[\u001b[0m\u001b[0;34m]\u001b[0m\u001b[0;34m\u001b[0m\u001b[0m\n",
      "\u001b[0;32m~/anaconda3/envs/dlnd-tf-lab/lib/python3.5/site-packages/tensorflow/python/client/session.py\u001b[0m in \u001b[0;36m_do_run\u001b[0;34m(self, handle, target_list, fetch_list, feed_dict, options, run_metadata)\u001b[0m\n\u001b[1;32m   1319\u001b[0m     \u001b[0;32mif\u001b[0m \u001b[0mhandle\u001b[0m \u001b[0;32mis\u001b[0m \u001b[0;32mNone\u001b[0m\u001b[0;34m:\u001b[0m\u001b[0;34m\u001b[0m\u001b[0m\n\u001b[1;32m   1320\u001b[0m       return self._do_call(_run_fn, self._session, feeds, fetches, targets,\n\u001b[0;32m-> 1321\u001b[0;31m                            options, run_metadata)\n\u001b[0m\u001b[1;32m   1322\u001b[0m     \u001b[0;32melse\u001b[0m\u001b[0;34m:\u001b[0m\u001b[0;34m\u001b[0m\u001b[0m\n\u001b[1;32m   1323\u001b[0m       \u001b[0;32mreturn\u001b[0m \u001b[0mself\u001b[0m\u001b[0;34m.\u001b[0m\u001b[0m_do_call\u001b[0m\u001b[0;34m(\u001b[0m\u001b[0m_prun_fn\u001b[0m\u001b[0;34m,\u001b[0m \u001b[0mself\u001b[0m\u001b[0;34m.\u001b[0m\u001b[0m_session\u001b[0m\u001b[0;34m,\u001b[0m \u001b[0mhandle\u001b[0m\u001b[0;34m,\u001b[0m \u001b[0mfeeds\u001b[0m\u001b[0;34m,\u001b[0m \u001b[0mfetches\u001b[0m\u001b[0;34m)\u001b[0m\u001b[0;34m\u001b[0m\u001b[0m\n",
      "\u001b[0;32m~/anaconda3/envs/dlnd-tf-lab/lib/python3.5/site-packages/tensorflow/python/client/session.py\u001b[0m in \u001b[0;36m_do_call\u001b[0;34m(self, fn, *args)\u001b[0m\n\u001b[1;32m   1325\u001b[0m   \u001b[0;32mdef\u001b[0m \u001b[0m_do_call\u001b[0m\u001b[0;34m(\u001b[0m\u001b[0mself\u001b[0m\u001b[0;34m,\u001b[0m \u001b[0mfn\u001b[0m\u001b[0;34m,\u001b[0m \u001b[0;34m*\u001b[0m\u001b[0margs\u001b[0m\u001b[0;34m)\u001b[0m\u001b[0;34m:\u001b[0m\u001b[0;34m\u001b[0m\u001b[0m\n\u001b[1;32m   1326\u001b[0m     \u001b[0;32mtry\u001b[0m\u001b[0;34m:\u001b[0m\u001b[0;34m\u001b[0m\u001b[0m\n\u001b[0;32m-> 1327\u001b[0;31m       \u001b[0;32mreturn\u001b[0m \u001b[0mfn\u001b[0m\u001b[0;34m(\u001b[0m\u001b[0;34m*\u001b[0m\u001b[0margs\u001b[0m\u001b[0;34m)\u001b[0m\u001b[0;34m\u001b[0m\u001b[0m\n\u001b[0m\u001b[1;32m   1328\u001b[0m     \u001b[0;32mexcept\u001b[0m \u001b[0merrors\u001b[0m\u001b[0;34m.\u001b[0m\u001b[0mOpError\u001b[0m \u001b[0;32mas\u001b[0m \u001b[0me\u001b[0m\u001b[0;34m:\u001b[0m\u001b[0;34m\u001b[0m\u001b[0m\n\u001b[1;32m   1329\u001b[0m       \u001b[0mmessage\u001b[0m \u001b[0;34m=\u001b[0m \u001b[0mcompat\u001b[0m\u001b[0;34m.\u001b[0m\u001b[0mas_text\u001b[0m\u001b[0;34m(\u001b[0m\u001b[0me\u001b[0m\u001b[0;34m.\u001b[0m\u001b[0mmessage\u001b[0m\u001b[0;34m)\u001b[0m\u001b[0;34m\u001b[0m\u001b[0m\n",
      "\u001b[0;32m~/anaconda3/envs/dlnd-tf-lab/lib/python3.5/site-packages/tensorflow/python/client/session.py\u001b[0m in \u001b[0;36m_run_fn\u001b[0;34m(session, feed_dict, fetch_list, target_list, options, run_metadata)\u001b[0m\n\u001b[1;32m   1304\u001b[0m           return tf_session.TF_Run(session, options,\n\u001b[1;32m   1305\u001b[0m                                    \u001b[0mfeed_dict\u001b[0m\u001b[0;34m,\u001b[0m \u001b[0mfetch_list\u001b[0m\u001b[0;34m,\u001b[0m \u001b[0mtarget_list\u001b[0m\u001b[0;34m,\u001b[0m\u001b[0;34m\u001b[0m\u001b[0m\n\u001b[0;32m-> 1306\u001b[0;31m                                    status, run_metadata)\n\u001b[0m\u001b[1;32m   1307\u001b[0m \u001b[0;34m\u001b[0m\u001b[0m\n\u001b[1;32m   1308\u001b[0m     \u001b[0;32mdef\u001b[0m \u001b[0m_prun_fn\u001b[0m\u001b[0;34m(\u001b[0m\u001b[0msession\u001b[0m\u001b[0;34m,\u001b[0m \u001b[0mhandle\u001b[0m\u001b[0;34m,\u001b[0m \u001b[0mfeed_dict\u001b[0m\u001b[0;34m,\u001b[0m \u001b[0mfetch_list\u001b[0m\u001b[0;34m)\u001b[0m\u001b[0;34m:\u001b[0m\u001b[0;34m\u001b[0m\u001b[0m\n",
      "\u001b[0;31mKeyboardInterrupt\u001b[0m: "
     ]
    }
   ],
   "source": [
    "import tensorflow as tf\n",
    "\n",
    "# Parameters\n",
    "learning_rate = 0.0001\n",
    "training_epochs = 100\n",
    "batch_size = int(x.shape[0]/100)  # Decrease batch size if you don't have enough memory\n",
    "\n",
    "n_input = x.shape[1]\n",
    "n_classes = 2  \n",
    "n_hidden_layer = x.shape[1] # layer number of features\n",
    "weights = {\n",
    "    'hidden_layer': tf.Variable(tf.random_normal([n_input, n_hidden_layer])),\n",
    "    'hidden_layer_1': tf.Variable(tf.random_normal([n_hidden_layer, int(n_hidden_layer/2)])),\n",
    "    'out': tf.Variable(tf.random_normal([int(n_hidden_layer/2), n_classes]))\n",
    "}\n",
    "biases = {\n",
    "    'hidden_layer': tf.Variable(tf.random_normal([n_hidden_layer])),\n",
    "    'hidden_layer_1': tf.Variable(tf.random_normal([int(n_hidden_layer/2)])),\n",
    "    'out': tf.Variable(tf.random_normal([n_classes]))\n",
    "}\n",
    "# tf Graph input\n",
    "x_tf = tf.placeholder(\"float\", [None, n_input])\n",
    "y_tf = tf.placeholder(\"float\", [None, n_classes])\n",
    "keep_prob = tf.placeholder(tf.float32) # probability to keep units\n",
    "\n",
    "# Hidden layer with RELU activation\n",
    "layer_1 = tf.add(tf.matmul(x_tf, weights['hidden_layer']),biases['hidden_layer'])\n",
    "layer_1 = tf.nn.relu(layer_1)\n",
    "\n",
    "layer_1 = tf.nn.dropout(layer_1, keep_prob)\n",
    "layer_2 = tf.add(tf.matmul(layer_1, weights['hidden_layer_1']),biases['hidden_layer_1'])\n",
    "layer_2 = tf.nn.relu(layer_2)\n",
    "layer_2 = tf.nn.dropout(layer_2, keep_prob)\n",
    "# Output layer with linear activation\n",
    "logits = tf.add(tf.matmul(layer_2, weights['out']), biases['out'])\n",
    "\n",
    "# Define loss and optimizer\n",
    "cost = tf.reduce_mean(tf.nn.softmax_cross_entropy_with_logits(logits=logits, labels=y_tf))\n",
    "optimizer = tf.train.AdamOptimizer(learning_rate=learning_rate).minimize(cost)\n",
    "# Calculate accuracy\n",
    "correct_prediction = tf.equal(tf.argmax(logits, 1), tf.argmax(y_tf, 1))\n",
    "accuracy = tf.reduce_mean(tf.cast(correct_prediction, tf.float32))\n",
    "init = tf.global_variables_initializer()\n",
    "\n",
    "\n",
    "# Launch the graph\n",
    "with tf.Session() as sess:\n",
    "    \n",
    "    sess.run(init)\n",
    "    # Training cycle\n",
    "    for epoch in range(training_epochs):\n",
    "        for i in range(0,len(X_train),batch_size):\n",
    "\n",
    "            start=i\n",
    "            end=i+batch_size\n",
    "            x_batch=X_train[start:end]\n",
    "            y_batch=y_train[start:end]\n",
    "            \n",
    "            # feeding training data/examples\n",
    "            sess.run(optimizer, feed_dict={x_tf:x_batch , y_tf:y_batch,keep_prob:0.3})\n",
    "            #print(\"{:.4%}\".format((i/len(X_train))), end='\\r')\n",
    "        \n",
    "            # Print status for every 10 epochs\n",
    "        print('Epoch {:<3}'.format(epoch), end='\\r')\n",
    "        if(epoch%10==0):\n",
    "            valid_accuracy = sess.run(\n",
    "                    accuracy,\n",
    "                    feed_dict={x_tf: X_test, y_tf: y_test,keep_prob: 1})\n",
    "            train_accuracy = sess.run(\n",
    "                    accuracy,\n",
    "                    feed_dict={x_tf: X_train, y_tf: y_train,keep_prob: 1})\n",
    "            print('Epoch {:<3} - Training Accuracy: {:.4%}'.format(\n",
    "                    epoch,\n",
    "                    train_accuracy))\n",
    "            print('Epoch {:<3} - Validation Accuracy: {:.4%}'.format(\n",
    "                    epoch,\n",
    "                    valid_accuracy))\n"
   ]
  },
  {
   "cell_type": "markdown",
   "metadata": {},
   "source": [
    "Since there was no great improvment either we will try to remove the interpolation of the input data to avoid adding noise to the model. To do data we will use NaN as a different category"
   ]
  },
  {
   "cell_type": "code",
   "execution_count": 33,
   "metadata": {},
   "outputs": [],
   "source": [
    "df_3 = pd.read_csv('problem1_dataset.csv')\n",
    "df_3.set_index('SESSION_ID',inplace=True)"
   ]
  },
  {
   "cell_type": "code",
   "execution_count": 34,
   "metadata": {
    "scrolled": true
   },
   "outputs": [
    {
     "name": "stdout",
     "output_type": "stream",
     "text": [
      "<class 'pandas.core.frame.DataFrame'>\n",
      "Float64Index: 180275 entries, 86.7097703783 to 222.930790647\n",
      "Columns: 140 entries, ITEM_ID to TIPO_WOK_nan\n",
      "dtypes: float64(8), int64(1), uint8(131)\n",
      "memory usage: 36.3 MB\n"
     ]
    }
   ],
   "source": [
    "df_3 = pd.get_dummies(df_3, columns=categorical_cols, dummy_na=True)\n",
    "df_3.info()"
   ]
  },
  {
   "cell_type": "code",
   "execution_count": 35,
   "metadata": {},
   "outputs": [],
   "source": [
    "df_3['ALTURA_BIN'] = pd.cut(df_3['ALTURA'], [0,2,16,28,43,84],labels=[1,2,3,4,5])\n",
    "df_3['CAPACIDADE_BIN'] = pd.cut(df_3['CAPACIDADE_(L)'], [0,0.045,4.5,11],labels=[1,2,3])\n",
    "df_3['LARGURA_BIN'] = pd.cut(df_3['LARGURA'], [0,4.5,18.5,26,33,91],labels=[1,2,3,4,5])\n",
    "df_3['PESO_BIN'] = pd.cut(df_3['PESO'], [0,0.62,60,160,44400],labels=[1,2,3,4])\n",
    "df_3['PROFUNDIDADE_BIN'] = pd.cut(df_3['PROFUNDIDADE'], [0,2.5,18.5,36.5,47,148],labels=[1,2,3,4,5])\n",
    "df_3['TEMPO_GARANTIA_BIN'] = pd.cut(df_3['TEMPO_GARANTIA'], [0,1,3,12,300],labels=[1,2,3,4])\n",
    "df_3['ITEM_PRICE_BIN'] = pd.cut(df_3['ITEM_PRICE'], [0,0.55,61,100,139,2275],labels=[1,2,3,4,5])"
   ]
  },
  {
   "cell_type": "code",
   "execution_count": 36,
   "metadata": {
    "scrolled": true
   },
   "outputs": [
    {
     "data": {
      "text/html": [
       "<div>\n",
       "<style scoped>\n",
       "    .dataframe tbody tr th:only-of-type {\n",
       "        vertical-align: middle;\n",
       "    }\n",
       "\n",
       "    .dataframe tbody tr th {\n",
       "        vertical-align: top;\n",
       "    }\n",
       "\n",
       "    .dataframe thead th {\n",
       "        text-align: right;\n",
       "    }\n",
       "</style>\n",
       "<table border=\"1\" class=\"dataframe\">\n",
       "  <thead>\n",
       "    <tr style=\"text-align: right;\">\n",
       "      <th></th>\n",
       "      <th>COMPOSICAO_ACO ESMALTADO</th>\n",
       "      <th>COMPOSICAO_ALUMINIO</th>\n",
       "      <th>COMPOSICAO_CERAMICA</th>\n",
       "      <th>COMPOSICAO_INOX</th>\n",
       "      <th>COMPOSICAO_PORCELANA</th>\n",
       "      <th>COMPOSICAO_nan</th>\n",
       "      <th>COR_ACACIA</th>\n",
       "      <th>COR_AMARELO</th>\n",
       "      <th>COR_AZUL</th>\n",
       "      <th>COR_BERINGELA</th>\n",
       "      <th>...</th>\n",
       "      <th>ITEM_PRICE_BIN_5.0</th>\n",
       "      <th>ITEM_PRICE_BIN_nan</th>\n",
       "      <th>LARGURA_BIN_1.0</th>\n",
       "      <th>LARGURA_BIN_2.0</th>\n",
       "      <th>LARGURA_BIN_3.0</th>\n",
       "      <th>LARGURA_BIN_4.0</th>\n",
       "      <th>LARGURA_BIN_5.0</th>\n",
       "      <th>LARGURA_BIN_nan</th>\n",
       "      <th>INTERESTED_0.0</th>\n",
       "      <th>INTERESTED_1.0</th>\n",
       "    </tr>\n",
       "    <tr>\n",
       "      <th>SESSION_ID</th>\n",
       "      <th></th>\n",
       "      <th></th>\n",
       "      <th></th>\n",
       "      <th></th>\n",
       "      <th></th>\n",
       "      <th></th>\n",
       "      <th></th>\n",
       "      <th></th>\n",
       "      <th></th>\n",
       "      <th></th>\n",
       "      <th></th>\n",
       "      <th></th>\n",
       "      <th></th>\n",
       "      <th></th>\n",
       "      <th></th>\n",
       "      <th></th>\n",
       "      <th></th>\n",
       "      <th></th>\n",
       "      <th></th>\n",
       "      <th></th>\n",
       "      <th></th>\n",
       "    </tr>\n",
       "  </thead>\n",
       "  <tbody>\n",
       "    <tr>\n",
       "      <th>86.709770</th>\n",
       "      <td>0</td>\n",
       "      <td>1</td>\n",
       "      <td>0</td>\n",
       "      <td>0</td>\n",
       "      <td>0</td>\n",
       "      <td>0</td>\n",
       "      <td>0</td>\n",
       "      <td>0</td>\n",
       "      <td>0</td>\n",
       "      <td>0</td>\n",
       "      <td>...</td>\n",
       "      <td>1</td>\n",
       "      <td>0</td>\n",
       "      <td>0</td>\n",
       "      <td>1</td>\n",
       "      <td>0</td>\n",
       "      <td>0</td>\n",
       "      <td>0</td>\n",
       "      <td>0</td>\n",
       "      <td>1</td>\n",
       "      <td>0</td>\n",
       "    </tr>\n",
       "    <tr>\n",
       "      <th>73.156401</th>\n",
       "      <td>0</td>\n",
       "      <td>1</td>\n",
       "      <td>0</td>\n",
       "      <td>0</td>\n",
       "      <td>0</td>\n",
       "      <td>0</td>\n",
       "      <td>0</td>\n",
       "      <td>0</td>\n",
       "      <td>0</td>\n",
       "      <td>0</td>\n",
       "      <td>...</td>\n",
       "      <td>0</td>\n",
       "      <td>0</td>\n",
       "      <td>0</td>\n",
       "      <td>0</td>\n",
       "      <td>1</td>\n",
       "      <td>0</td>\n",
       "      <td>0</td>\n",
       "      <td>0</td>\n",
       "      <td>1</td>\n",
       "      <td>0</td>\n",
       "    </tr>\n",
       "    <tr>\n",
       "      <th>952.331024</th>\n",
       "      <td>0</td>\n",
       "      <td>0</td>\n",
       "      <td>0</td>\n",
       "      <td>1</td>\n",
       "      <td>0</td>\n",
       "      <td>0</td>\n",
       "      <td>0</td>\n",
       "      <td>0</td>\n",
       "      <td>0</td>\n",
       "      <td>0</td>\n",
       "      <td>...</td>\n",
       "      <td>1</td>\n",
       "      <td>0</td>\n",
       "      <td>0</td>\n",
       "      <td>0</td>\n",
       "      <td>1</td>\n",
       "      <td>0</td>\n",
       "      <td>0</td>\n",
       "      <td>0</td>\n",
       "      <td>1</td>\n",
       "      <td>0</td>\n",
       "    </tr>\n",
       "    <tr>\n",
       "      <th>637.759106</th>\n",
       "      <td>0</td>\n",
       "      <td>1</td>\n",
       "      <td>0</td>\n",
       "      <td>0</td>\n",
       "      <td>0</td>\n",
       "      <td>0</td>\n",
       "      <td>0</td>\n",
       "      <td>0</td>\n",
       "      <td>0</td>\n",
       "      <td>0</td>\n",
       "      <td>...</td>\n",
       "      <td>0</td>\n",
       "      <td>0</td>\n",
       "      <td>0</td>\n",
       "      <td>0</td>\n",
       "      <td>0</td>\n",
       "      <td>0</td>\n",
       "      <td>1</td>\n",
       "      <td>0</td>\n",
       "      <td>0</td>\n",
       "      <td>1</td>\n",
       "    </tr>\n",
       "    <tr>\n",
       "      <th>478.531428</th>\n",
       "      <td>0</td>\n",
       "      <td>1</td>\n",
       "      <td>0</td>\n",
       "      <td>0</td>\n",
       "      <td>0</td>\n",
       "      <td>0</td>\n",
       "      <td>0</td>\n",
       "      <td>0</td>\n",
       "      <td>0</td>\n",
       "      <td>0</td>\n",
       "      <td>...</td>\n",
       "      <td>0</td>\n",
       "      <td>0</td>\n",
       "      <td>0</td>\n",
       "      <td>0</td>\n",
       "      <td>0</td>\n",
       "      <td>0</td>\n",
       "      <td>1</td>\n",
       "      <td>0</td>\n",
       "      <td>1</td>\n",
       "      <td>0</td>\n",
       "    </tr>\n",
       "  </tbody>\n",
       "</table>\n",
       "<p>5 rows × 171 columns</p>\n",
       "</div>"
      ],
      "text/plain": [
       "            COMPOSICAO_ACO ESMALTADO  COMPOSICAO_ALUMINIO  \\\n",
       "SESSION_ID                                                  \n",
       "86.709770                          0                    1   \n",
       "73.156401                          0                    1   \n",
       "952.331024                         0                    0   \n",
       "637.759106                         0                    1   \n",
       "478.531428                         0                    1   \n",
       "\n",
       "            COMPOSICAO_CERAMICA  COMPOSICAO_INOX  COMPOSICAO_PORCELANA  \\\n",
       "SESSION_ID                                                               \n",
       "86.709770                     0                0                     0   \n",
       "73.156401                     0                0                     0   \n",
       "952.331024                    0                1                     0   \n",
       "637.759106                    0                0                     0   \n",
       "478.531428                    0                0                     0   \n",
       "\n",
       "            COMPOSICAO_nan  COR_ACACIA  COR_AMARELO  COR_AZUL  COR_BERINGELA  \\\n",
       "SESSION_ID                                                                     \n",
       "86.709770                0           0            0         0              0   \n",
       "73.156401                0           0            0         0              0   \n",
       "952.331024               0           0            0         0              0   \n",
       "637.759106               0           0            0         0              0   \n",
       "478.531428               0           0            0         0              0   \n",
       "\n",
       "                 ...        ITEM_PRICE_BIN_5.0  ITEM_PRICE_BIN_nan  \\\n",
       "SESSION_ID       ...                                                 \n",
       "86.709770        ...                         1                   0   \n",
       "73.156401        ...                         0                   0   \n",
       "952.331024       ...                         1                   0   \n",
       "637.759106       ...                         0                   0   \n",
       "478.531428       ...                         0                   0   \n",
       "\n",
       "            LARGURA_BIN_1.0  LARGURA_BIN_2.0  LARGURA_BIN_3.0  \\\n",
       "SESSION_ID                                                      \n",
       "86.709770                 0                1                0   \n",
       "73.156401                 0                0                1   \n",
       "952.331024                0                0                1   \n",
       "637.759106                0                0                0   \n",
       "478.531428                0                0                0   \n",
       "\n",
       "            LARGURA_BIN_4.0  LARGURA_BIN_5.0  LARGURA_BIN_nan  INTERESTED_0.0  \\\n",
       "SESSION_ID                                                                      \n",
       "86.709770                 0                0                0               1   \n",
       "73.156401                 0                0                0               1   \n",
       "952.331024                0                0                0               1   \n",
       "637.759106                0                1                0               0   \n",
       "478.531428                0                1                0               1   \n",
       "\n",
       "            INTERESTED_1.0  \n",
       "SESSION_ID                  \n",
       "86.709770                0  \n",
       "73.156401                0  \n",
       "952.331024               0  \n",
       "637.759106               1  \n",
       "478.531428               0  \n",
       "\n",
       "[5 rows x 171 columns]"
      ]
     },
     "execution_count": 36,
     "metadata": {},
     "output_type": "execute_result"
    }
   ],
   "source": [
    "df_3 = df_3.drop(columns = numerical_cols)\n",
    "df_3 = pd.get_dummies(df_3, dummy_na=True, columns=['ALTURA_BIN','CAPACIDADE_BIN','PESO_BIN','PROFUNDIDADE_BIN','TEMPO_GARANTIA_BIN','ITEM_PRICE_BIN','LARGURA_BIN'])\n",
    "df_3 = df_3.drop(columns=['ITEM_ID'])\n",
    "categorical_col= ['INTERESTED']\n",
    "df_3 = pd.get_dummies(df_3, columns=categorical_col)\n",
    "df_3 = df_3.apply(pd.to_numeric, errors='ignore')\n",
    "df_3.head()"
   ]
  },
  {
   "cell_type": "code",
   "execution_count": 37,
   "metadata": {},
   "outputs": [
    {
     "data": {
      "text/plain": [
       "[]"
      ]
     },
     "execution_count": 37,
     "metadata": {},
     "output_type": "execute_result"
    }
   ],
   "source": [
    "df_3.columns[df_3.isna().any()].tolist()"
   ]
  },
  {
   "cell_type": "code",
   "execution_count": 38,
   "metadata": {},
   "outputs": [
    {
     "name": "stdout",
     "output_type": "stream",
     "text": [
      "Iteration 1, loss = 0.57042319\n",
      "Iteration 2, loss = 0.55913544\n",
      "Iteration 3, loss = 0.55690735\n",
      "Iteration 4, loss = 0.55541257\n",
      "Iteration 5, loss = 0.55409508\n",
      "Iteration 6, loss = 0.55321928\n",
      "Iteration 7, loss = 0.55240694\n",
      "Iteration 8, loss = 0.55214663\n",
      "Iteration 9, loss = 0.55165832\n",
      "Iteration 10, loss = 0.55107379\n",
      "Iteration 11, loss = 0.55099005\n",
      "Iteration 12, loss = 0.55086085\n",
      "Iteration 13, loss = 0.55078864\n",
      "Iteration 14, loss = 0.55068587\n",
      "Iteration 15, loss = 0.55018045\n",
      "Iteration 16, loss = 0.55009963\n",
      "Iteration 17, loss = 0.55009576\n",
      "Iteration 18, loss = 0.54979354\n",
      "Iteration 19, loss = 0.54981057\n",
      "Iteration 20, loss = 0.54966157\n",
      "Iteration 21, loss = 0.54945175\n",
      "Iteration 22, loss = 0.54966473\n",
      "Iteration 23, loss = 0.54943330\n",
      "Iteration 24, loss = 0.54912184\n",
      "Iteration 25, loss = 0.54905692\n",
      "Iteration 26, loss = 0.54908656\n",
      "Iteration 27, loss = 0.54880059\n",
      "Iteration 28, loss = 0.54910053\n",
      "Iteration 29, loss = 0.54861955\n",
      "Iteration 30, loss = 0.54865312\n",
      "Iteration 31, loss = 0.54925045\n",
      "Iteration 32, loss = 0.54901445\n",
      "Training loss did not improve more than tol=0.000100 for two consecutive epochs. Setting learning rate to 0.020000\n",
      "Iteration 33, loss = 0.54705376\n",
      "Iteration 34, loss = 0.54663035\n",
      "Iteration 35, loss = 0.54663074\n",
      "Iteration 36, loss = 0.54652230\n",
      "Iteration 37, loss = 0.54640414\n",
      "Iteration 38, loss = 0.54641610\n",
      "Iteration 39, loss = 0.54637016\n",
      "Iteration 40, loss = 0.54634044\n",
      "Training loss did not improve more than tol=0.000100 for two consecutive epochs. Setting learning rate to 0.004000\n",
      "Iteration 41, loss = 0.54578232\n",
      "Iteration 42, loss = 0.54570875\n",
      "Iteration 43, loss = 0.54569419\n",
      "Iteration 44, loss = 0.54569133\n",
      "Training loss did not improve more than tol=0.000100 for two consecutive epochs. Setting learning rate to 0.000800\n",
      "Iteration 45, loss = 0.54553572\n",
      "Iteration 46, loss = 0.54553312\n",
      "Iteration 47, loss = 0.54553086\n",
      "Iteration 48, loss = 0.54552654\n",
      "Training loss did not improve more than tol=0.000100 for two consecutive epochs. Setting learning rate to 0.000160\n",
      "Iteration 49, loss = 0.54549560\n",
      "Iteration 50, loss = 0.54549560\n",
      "Iteration 51, loss = 0.54549468\n",
      "Training loss did not improve more than tol=0.000100 for two consecutive epochs. Setting learning rate to 0.000032\n",
      "Iteration 52, loss = 0.54548800\n",
      "Iteration 53, loss = 0.54548791\n",
      "Iteration 54, loss = 0.54548786\n",
      "Training loss did not improve more than tol=0.000100 for two consecutive epochs. Setting learning rate to 0.000006\n",
      "Iteration 55, loss = 0.54548645\n",
      "Iteration 56, loss = 0.54548642\n",
      "Iteration 57, loss = 0.54548641\n",
      "Training loss did not improve more than tol=0.000100 for two consecutive epochs. Setting learning rate to 0.000001\n",
      "Iteration 58, loss = 0.54548614\n",
      "Iteration 59, loss = 0.54548614\n",
      "Iteration 60, loss = 0.54548613\n",
      "Training loss did not improve more than tol=0.000100 for two consecutive epochs. Setting learning rate to 0.000000\n",
      "Iteration 61, loss = 0.54548608\n",
      "Iteration 62, loss = 0.54548608\n",
      "Iteration 63, loss = 0.54548607\n",
      "Training loss did not improve more than tol=0.000100 for two consecutive epochs. Learning rate too small. Stopping.\n",
      "Accuracy: 0.9153742039983137\n"
     ]
    }
   ],
   "source": [
    "resultcols =[k for k in df_3.columns if k.find(\"INTERESTED\")!=-1]\n",
    "y = df_3[resultcols].values\n",
    "x = df_3[df_3.columns.difference(resultcols)].values\n",
    "X_train, X_test, y_train, y_test = train_test_split(x, y)  \n",
    "classifier = MLPClassifier(verbose=True, hidden_layer_sizes=(x.shape[1],int(x.shape[1]/2)),\n",
    "                           learning_rate_init = 0.1,\n",
    "                           learning_rate='adaptive',solver='sgd')  \n",
    "classifier.fit(X_train, y_train)  \n",
    "result =classifier.score(X_test,y_test)\n",
    "print(\"Accuracy: \" + str(result))"
   ]
  },
  {
   "cell_type": "code",
   "execution_count": 101,
   "metadata": {},
   "outputs": [
    {
     "name": "stdout",
     "output_type": "stream",
     "text": [
      "Epoch 0   - Training Accuracy: 66.0518%\n",
      "Epoch 0   - Validation Accuracy: 66.3494%\n",
      "Epoch 5   - Training Accuracy: 66.1073%\n",
      "Epoch 5   - Validation Accuracy: 66.5801%\n",
      "Epoch 10  - Training Accuracy: 66.2537%\n",
      "Epoch 10  - Validation Accuracy: 66.7332%\n",
      "Epoch 15  - Training Accuracy: 66.4283%\n",
      "Epoch 15  - Validation Accuracy: 66.9019%\n",
      "Epoch 20  - Training Accuracy: 66.5326%\n",
      "Epoch 20  - Validation Accuracy: 67.0616%\n",
      "Epoch 25  - Training Accuracy: 69.7506%\n",
      "Epoch 25  - Validation Accuracy: 69.7486%\n",
      "Epoch 30  - Training Accuracy: 70.4340%\n",
      "Epoch 30  - Validation Accuracy: 70.6339%\n",
      "Epoch 35  - Training Accuracy: 70.6625%\n",
      "Epoch 35  - Validation Accuracy: 70.8514%\n",
      "Epoch 40  - Training Accuracy: 70.6522%\n",
      "Epoch 40  - Validation Accuracy: 70.9512%\n",
      "Epoch 45  - Training Accuracy: 70.7846%\n",
      "Epoch 45  - Validation Accuracy: 71.1065%\n",
      "Epoch 50  - Training Accuracy: 70.8667%\n",
      "Epoch 50  - Validation Accuracy: 71.2175%\n",
      "Epoch 55  - Training Accuracy: 70.8948%\n",
      "Epoch 55  - Validation Accuracy: 71.2574%\n",
      "Epoch 60  - Training Accuracy: 72.3592%\n",
      "Epoch 60  - Validation Accuracy: 72.6863%\n",
      "Epoch 65  - Training Accuracy: 72.8888%\n",
      "Epoch 65  - Validation Accuracy: 73.1944%\n",
      "Epoch 70  - Training Accuracy: 73.3754%\n",
      "Epoch 70  - Validation Accuracy: 73.5694%\n",
      "Epoch 75  - Training Accuracy: 73.5744%\n",
      "Epoch 75  - Validation Accuracy: 73.7669%\n",
      "Epoch 80  - Training Accuracy: 73.6632%\n",
      "Epoch 80  - Validation Accuracy: 73.8512%\n",
      "Epoch 85  - Training Accuracy: 73.8074%\n",
      "Epoch 85  - Validation Accuracy: 74.0221%\n",
      "Epoch 90  - Training Accuracy: 73.8140%\n",
      "Epoch 90  - Validation Accuracy: 74.0309%\n",
      "Epoch 95  - Training Accuracy: 73.9457%\n",
      "Epoch 95  - Validation Accuracy: 74.0842%\n",
      "Epoch 100 - Training Accuracy: 74.2792%\n",
      "Epoch 100 - Validation Accuracy: 74.4436%\n"
     ]
    }
   ],
   "source": [
    "import tensorflow as tf\n",
    "\n",
    "# Parameters\n",
    "training_epochs = 100\n",
    "batch_size = int(x.shape[0])  \n",
    "learning_rate = 0.1\n",
    "\n",
    "n_input = x.shape[1]\n",
    "n_classes = 2  \n",
    "n_hidden_layer = x.shape[1] # layer number of features\n",
    "weights = {\n",
    "    'hidden_layer': tf.Variable(tf.random_normal([n_input, n_hidden_layer])),\n",
    "    'hidden_layer_1': tf.Variable(tf.random_normal([n_hidden_layer, int(n_hidden_layer/2)])),\n",
    "    'out': tf.Variable(tf.random_normal([int(n_hidden_layer/2), n_classes]))\n",
    "}\n",
    "biases = {\n",
    "    'hidden_layer': tf.Variable(tf.random_normal([n_hidden_layer])),\n",
    "    'hidden_layer_1': tf.Variable(tf.random_normal([int(n_hidden_layer/2)])),\n",
    "    'out': tf.Variable(tf.random_normal([n_classes]))\n",
    "}\n",
    "# tf Graph input\n",
    "x_tf = tf.placeholder(\"float\", [None, n_input])\n",
    "y_tf = tf.placeholder(\"float\", [None, n_classes])\n",
    "keep_prob = tf.placeholder(tf.float32) # probability to keep units\n",
    "\n",
    "# Hidden layer with RELU activation\n",
    "layer_1 = tf.add(tf.matmul(x_tf, weights['hidden_layer']),biases['hidden_layer'])\n",
    "layer_1 = tf.nn.relu(layer_1)\n",
    "layer_1 = tf.nn.dropout(layer_1, keep_prob)\n",
    "\n",
    "layer_2 = tf.add(tf.matmul(layer_1, weights['hidden_layer_1']),biases['hidden_layer_1'])\n",
    "layer_2 = tf.nn.relu(layer_2)\n",
    "layer_2 = tf.nn.dropout(layer_2, keep_prob)\n",
    "\n",
    "# Output layer with linear activation\n",
    "logits = tf.add(tf.matmul(layer_2, weights['out']), biases['out'])\n",
    "\n",
    "# Define loss and optimizer\n",
    "cost = tf.reduce_mean(tf.nn.softmax_cross_entropy_with_logits(logits=logits, labels=y_tf))\n",
    "optimizer = tf.train.AdadeltaOptimizer(learning_rate=learning_rate).minimize(cost)\n",
    "# Calculate accuracy\n",
    "correct_prediction = tf.equal(tf.argmax(logits, 1), tf.argmax(y_tf, 1))\n",
    "accuracy = tf.reduce_mean(tf.cast(correct_prediction, tf.float32))\n",
    "init = tf.global_variables_initializer()\n",
    "\n",
    "# Launch the graph\n",
    "with tf.Session() as sess:\n",
    "    \n",
    "    sess.run(init)\n",
    "    # Training cycle\n",
    "    for epoch in range(training_epochs+1):\n",
    "        for i in range(0,len(X_train),batch_size):\n",
    "            #random_batch = np.random.choice(X_train.shape[0], int(X_train.shape[0] / batch_size))\n",
    "            start=i\n",
    "            end=i+batch_size\n",
    "            x_batch=X_train[start:end]\n",
    "            y_batch=y_train[start:end]         \n",
    "            # feeding training data/examples\n",
    "            sess.run(optimizer, feed_dict={x_tf:x_batch , y_tf:y_batch,keep_prob:0.3})\n",
    "            #print(\"{:.4%}\".format((i/len(X_train))), end='\\r')\n",
    "        \n",
    "            # Print status for every 10 epochs\n",
    "        print('Epoch {:<3}'.format(epoch), end='\\r')\n",
    "        np.random.shuffle(X_train)\n",
    "        np.random.shuffle(y_train)\n",
    "       \n",
    "            \n",
    "        if(epoch%5==0):\n",
    "            valid_accuracy = sess.run(\n",
    "                    accuracy,\n",
    "                    feed_dict={x_tf: X_test, y_tf: y_test,keep_prob: 1})\n",
    "            train_accuracy = sess.run(\n",
    "                    accuracy,\n",
    "                    feed_dict={x_tf: X_train, y_tf: y_train,keep_prob: 1})\n",
    "            print('Epoch {:<3} - Training Accuracy: {:.4%}'.format(\n",
    "                    epoch,\n",
    "                    train_accuracy))\n",
    "            print('Epoch {:<3} - Validation Accuracy: {:.4%}'.format(\n",
    "                    epoch,\n",
    "                    valid_accuracy))\n",
    "          \n"
   ]
  },
  {
   "cell_type": "markdown",
   "metadata": {},
   "source": [
    "# Data Analisys\n",
    "All the attempts made to improve the performance resulted in the same accuracy between 91% and 92%. So we need to take a look at the data  to see if any other insigths."
   ]
  },
  {
   "cell_type": "code",
   "execution_count": 89,
   "metadata": {
    "scrolled": false
   },
   "outputs": [
    {
     "name": "stdout",
     "output_type": "stream",
     "text": [
      "<class 'pandas.core.frame.DataFrame'>\n",
      "Float64Index: 180275 entries, 86.7097703783 to 222.930790647\n",
      "Data columns (total 20 columns):\n",
      "ITEM_ID              180275 non-null int64\n",
      "ALTURA               171007 non-null float64\n",
      "CAPACIDADE_(L)       76671 non-null float64\n",
      "COMPOSICAO           156978 non-null object\n",
      "COR                  170251 non-null object\n",
      "FORMATO              90011 non-null object\n",
      "LARGURA              171007 non-null float64\n",
      "MARCA                180001 non-null object\n",
      "PARA_LAVA_LOUCAS     104086 non-null object\n",
      "PARA_MICRO_ONDAS     86402 non-null object\n",
      "PESO                 98524 non-null float64\n",
      "PROFUNDIDADE         171007 non-null float64\n",
      "TEMPO_GARANTIA       122770 non-null float64\n",
      "TEM_FERRO_FUNDIDO    180275 non-null object\n",
      "TEM_GRELHA           180275 non-null object\n",
      "TEM_TAMPA            180275 non-null float64\n",
      "TIPO_PRODUTO         180275 non-null object\n",
      "TIPO_WOK             180275 non-null object\n",
      "ITEM_PRICE           167178 non-null float64\n",
      "INTERESTED           180275 non-null float64\n",
      "dtypes: float64(9), int64(1), object(10)\n",
      "memory usage: 28.9+ MB\n"
     ]
    }
   ],
   "source": [
    "import matplotlib.pyplot as plt\n",
    "df = pd.read_csv('problem1_dataset.csv')\n",
    "df.set_index('SESSION_ID',inplace=True)\n",
    "df.info()"
   ]
  },
  {
   "cell_type": "code",
   "execution_count": 90,
   "metadata": {},
   "outputs": [
    {
     "data": {
      "image/png": "[encoded data removed]",
      "text/plain": [
       "<matplotlib.figure.Figure at 0x7febde6dd9e8>"
      ]
     },
     "metadata": {},
     "output_type": "display_data"
    }
   ],
   "source": [
    "df['INTERESTED'].value_counts().plot(kind='pie')\n",
    "plt.show()"
   ]
  },
  {
   "cell_type": "code",
   "execution_count": 95,
   "metadata": {
    "scrolled": true
   },
   "outputs": [
    {
     "data": {
      "image/png": "[encoded data removed]",
      "text/plain": [
       "<matplotlib.figure.Figure at 0x7febe31cfbe0>"
      ]
     },
     "metadata": {},
     "output_type": "display_data"
    }
   ],
   "source": [
    "df['COMPOSICAO'].value_counts().plot(kind='pie')\n",
    "plt.tight_layout()\n",
    "plt.show()"
   ]
  },
  {
   "cell_type": "code",
   "execution_count": 96,
   "metadata": {},
   "outputs": [
    {
     "data": {
      "image/png": "[encoded data removed]",
      "text/plain": [
       "<matplotlib.figure.Figure at 0x7febe18764a8>"
      ]
     },
     "metadata": {},
     "output_type": "display_data"
    }
   ],
   "source": [
    "df['FORMATO'].value_counts().plot(kind='pie')\n",
    "plt.show()"
   ]
  },
  {
   "cell_type": "code",
   "execution_count": 100,
   "metadata": {},
   "outputs": [
    {
     "data": {
      "image/png": "[encoded data removed]",
      "text/plain": [
       "<matplotlib.figure.Figure at 0x7febe4dd2a20>"
      ]
     },
     "metadata": {},
     "output_type": "display_data"
    }
   ],
   "source": [
    "plt.subplot(1,3,1)\n",
    "df['ALTURA'].plot(kind='hist', bins=4, alpha=0.5, normed=1)\n",
    "plt.subplot(1,3,2)\n",
    "df['CAPACIDADE_(L)'].plot(kind='hist', bins=4, alpha=0.5, normed=1)\n",
    "plt.subplot(1,3,3)\n",
    "df['LARGURA'].plot(kind='hist', bins=4, alpha=0.5, normed=1)\n",
    "plt.show()"
   ]
  },
  {
   "cell_type": "markdown",
   "metadata": {},
   "source": [
    "From those simple visualizations we can see that the data is Highly unbalanced. This affects the hability of the Network to generalize. Since there are a lot o missing exemple for some categories. Also there are alot o NAN information which affect the netowrk generalization capability. However we can try to see if there is any direct relationship between categories/bins and the predicted output."
   ]
  },
  {
   "cell_type": "code",
   "execution_count": null,
   "metadata": {},
   "outputs": [],
   "source": [
    "classifier."
   ]
  }
 ],
 "metadata": {
  "kernelspec": {
   "display_name": "Python [conda env:dlnd-tf-lab]",
   "language": "python",
   "name": "conda-env-dlnd-tf-lab-py"
  },
  "language_info": {
   "codemirror_mode": {
    "name": "ipython",
    "version": 3
   },
   "file_extension": ".py",
   "mimetype": "text/x-python",
   "name": "python",
   "nbconvert_exporter": "python",
   "pygments_lexer": "ipython3",
   "version": "3.5.4"
  }
 },
 "nbformat": 4,
 "nbformat_minor": 2
}
